{
 "cells": [
  {
   "cell_type": "markdown",
   "id": "f03a9ee1",
   "metadata": {},
   "source": [
    "# Python Loops\n",
    "Python has two primitive loops (for and while)\n"
   ]
  },
  {
   "cell_type": "markdown",
   "id": "9fd57085",
   "metadata": {},
   "source": [
    "# While Loop"
   ]
  },
  {
   "cell_type": "code",
   "execution_count": null,
   "id": "b14af1d5",
   "metadata": {},
   "outputs": [],
   "source": [
    "#printing hello world five times using while loop\n",
    "n=0\n",
    "while n<5:\n",
    "    print(\"Hello World\")\n",
    "    n+=1  #incrementing counter by 1 \n",
    "print(\"Out of Loop\") # outside the loop    "
   ]
  },
  {
   "cell_type": "code",
   "execution_count": 9,
   "id": "1a70a183",
   "metadata": {},
   "outputs": [
    {
     "name": "stdout",
     "output_type": "stream",
     "text": [
      "0\n",
      "1\n",
      "2\n",
      "3\n",
      "4\n",
      "5\n"
     ]
    }
   ],
   "source": [
    "#counting numbers from 0 to 5\n",
    "i=0\n",
    "while i<=5:\n",
    "    print(i)\n",
    "    i+=1  #incrementing i by 1"
   ]
  },
  {
   "cell_type": "code",
   "execution_count": null,
   "id": "7678d5ed",
   "metadata": {},
   "outputs": [],
   "source": [
    "#counting numbers from 0 to N\n",
    "i=0\n",
    "N = int(input(\"Enter any number\"))\n",
    "while i<=N:\n",
    "    print(i)\n",
    "    i+=1  #incrementing i by 1 "
   ]
  },
  {
   "cell_type": "code",
   "execution_count": 10,
   "id": "19271c61",
   "metadata": {},
   "outputs": [
    {
     "name": "stdout",
     "output_type": "stream",
     "text": [
      "55\n"
     ]
    }
   ],
   "source": [
    "# Program to add natural numbers  \n",
    "# sum = 1+2+3+...+10\n",
    "\n",
    "sum = 0\n",
    "i = 1\n",
    "while i <= 10:\n",
    "    sum =sum+ i    \n",
    "    i =i+ 1       # i+=1\n",
    "print(sum)"
   ]
  },
  {
   "cell_type": "code",
   "execution_count": 2,
   "id": "1b9cfc10",
   "metadata": {},
   "outputs": [
    {
     "name": "stdout",
     "output_type": "stream",
     "text": [
      "Enter a no 10\n",
      "The sum is 55\n"
     ]
    }
   ],
   "source": [
    "# initialize sum and counter\n",
    "sum = 0\n",
    "i = 1\n",
    "n=int(input(\"Enter a no \"))\n",
    "while i <= n:\n",
    "    sum = sum + i\n",
    "    i = i+1    # update counter\n",
    "\n",
    "# print the sum\n",
    "print(\"The sum is\", sum)"
   ]
  },
  {
   "cell_type": "code",
   "execution_count": 4,
   "id": "72592a0e",
   "metadata": {},
   "outputs": [
    {
     "name": "stdout",
     "output_type": "stream",
     "text": [
      "30\n"
     ]
    }
   ],
   "source": [
    "# Sum even integer values within range 1-10\n",
    "sum = 0\n",
    "i = 1\n",
    "while i <= 10:\n",
    "    \n",
    "    if i%2==0:\n",
    "        sum += i     #sum=sum+i\n",
    "    i += 1\n",
    "print(sum)"
   ]
  },
  {
   "cell_type": "markdown",
   "id": "cbd26604",
   "metadata": {},
   "source": [
    "# Break and Continue in While Loop\n",
    "1. Break Statement used to bring program control out of Loop\n",
    "2. Continue Statement is used for skipping the particular part of Loop"
   ]
  },
  {
   "cell_type": "code",
   "execution_count": null,
   "id": "5802b887",
   "metadata": {},
   "outputs": [],
   "source": [
    "i=1\n",
    "while i<=10:\n",
    "    \n",
    "    if i==5:\n",
    "        break #break here      \n",
    "    print('Number is ',i)\n",
    "    i+=1\n",
    "print(\"Out of Loop\")    "
   ]
  },
  {
   "cell_type": "code",
   "execution_count": 3,
   "id": "630e194a",
   "metadata": {},
   "outputs": [
    {
     "name": "stdout",
     "output_type": "stream",
     "text": [
      "Number is  1\n",
      "Number is  2\n",
      "Number is  3\n",
      "Number is  4\n",
      "Number is  6\n",
      "Number is  7\n",
      "Number is  8\n",
      "Number is  9\n",
      "Number is  10\n",
      "Number is  11\n",
      "Out of Loop\n"
     ]
    }
   ],
   "source": [
    "i=0\n",
    "while i<=10:\n",
    "    i+=1\n",
    "    if i==5:\n",
    "        continue #continue here      \n",
    "    print('Number is ',i)\n",
    "print(\"Out of Loop\")    "
   ]
  },
  {
   "cell_type": "code",
   "execution_count": 9,
   "id": "c4e24fe5",
   "metadata": {},
   "outputs": [
    {
     "name": "stdout",
     "output_type": "stream",
     "text": [
      "10\n"
     ]
    }
   ],
   "source": [
    "# Sum integer values within range less than 5 (using break command)\n",
    "sum = 0\n",
    "i = 1\n",
    "while i <= 10:\n",
    "    sum += i\n",
    "    i += 1\n",
    "    if i == 5:\n",
    "        break\n",
    "    \n",
    "print(sum)"
   ]
  },
  {
   "cell_type": "code",
   "execution_count": null,
   "id": "7f05e0f7",
   "metadata": {},
   "outputs": [],
   "source": [
    "sum = 0\n",
    "input_value = 0\n",
    "while input_value != 'q':\n",
    "    sum += int(input_value)\n",
    "    print(\"Sum = \", sum)\n",
    "    print(\"Enter New number to add or press q to quit the program\")\n",
    "    input_value = input()\n",
    "    "
   ]
  },
  {
   "cell_type": "markdown",
   "id": "6e66b4af",
   "metadata": {},
   "source": [
    "# For Loop"
   ]
  },
  {
   "cell_type": "code",
   "execution_count": 11,
   "id": "a70c46fe",
   "metadata": {},
   "outputs": [
    {
     "name": "stdout",
     "output_type": "stream",
     "text": [
      "1\n",
      "2\n",
      "3\n",
      "4\n",
      "5\n",
      "Good bye!\n"
     ]
    }
   ],
   "source": [
    "# Loop through list value\n",
    "for i in  [1,2,3,4,5]:\n",
    "    print(i)\n",
    "print (\"Good bye!\")    "
   ]
  },
  {
   "cell_type": "code",
   "execution_count": 12,
   "id": "b36b2deb",
   "metadata": {},
   "outputs": [
    {
     "name": "stdout",
     "output_type": "stream",
     "text": [
      "P\n",
      "a\n",
      "k\n",
      "i\n",
      "s\n",
      "t\n",
      "a\n",
      "n\n",
      "Good bye!\n"
     ]
    }
   ],
   "source": [
    "# Loop through string value\n",
    "country=\"Pakistan\"\n",
    "for x in  country:\n",
    "    print(x)\n",
    "print (\"Good bye!\")    "
   ]
  },
  {
   "cell_type": "code",
   "execution_count": null,
   "id": "111dbaab",
   "metadata": {},
   "outputs": [],
   "source": [
    "fruits = [\"apple\", \"banana\", \"cherry\"]\n",
    "for fruit in fruits:\n",
    "    print(fruit)\n",
    "    "
   ]
  },
  {
   "cell_type": "markdown",
   "id": "cc140d1a",
   "metadata": {},
   "source": [
    "# Range\n",
    "Range Returns a sequence of numbers starting from 0 to stop - 1"
   ]
  },
  {
   "cell_type": "code",
   "execution_count": 15,
   "id": "40fc22e5",
   "metadata": {},
   "outputs": [
    {
     "data": {
      "text/plain": [
       "range(0, 10)"
      ]
     },
     "execution_count": 15,
     "metadata": {},
     "output_type": "execute_result"
    }
   ],
   "source": [
    "# We can generate a sequence of numbers using range() function. range(10) will generate numbers from 0 to 9 (10 numbers).\n",
    "range(10)"
   ]
  },
  {
   "cell_type": "code",
   "execution_count": 16,
   "id": "97f4293f",
   "metadata": {},
   "outputs": [
    {
     "name": "stdout",
     "output_type": "stream",
     "text": [
      "0\n",
      "1\n",
      "2\n",
      "3\n",
      "4\n"
     ]
    }
   ],
   "source": [
    "# For loop with range() fuction\n",
    "for i in range(5):  # in range(5), the loop will stop just before 5, so 5 is exclusive\n",
    "    print(i)\n",
    "    "
   ]
  },
  {
   "cell_type": "code",
   "execution_count": 18,
   "id": "3397360e",
   "metadata": {},
   "outputs": [
    {
     "name": "stdout",
     "output_type": "stream",
     "text": [
      "2\n",
      "3\n",
      "4\n",
      "5\n",
      "6\n",
      "7\n",
      "8\n",
      "9\n",
      "10\n",
      "11\n",
      "12\n",
      "13\n",
      "14\n"
     ]
    }
   ],
   "source": [
    "for i in range(2, 15):\n",
    "    print(i)\n"
   ]
  },
  {
   "cell_type": "code",
   "execution_count": null,
   "id": "7c97f604",
   "metadata": {},
   "outputs": [],
   "source": [
    "# taking square of no.s from 0 to 4\n",
    "for i in range(5):  \n",
    "    print(i**2)\n",
    "    "
   ]
  },
  {
   "cell_type": "code",
   "execution_count": 19,
   "id": "ad0211b3",
   "metadata": {},
   "outputs": [
    {
     "name": "stdout",
     "output_type": "stream",
     "text": [
      "55\n"
     ]
    }
   ],
   "source": [
    "# Sum integer values within range 10\n",
    "sum = 0\n",
    "for i in range(11): \n",
    "    sum += i\n",
    "print(sum)"
   ]
  },
  {
   "cell_type": "markdown",
   "id": "4b3dba87",
   "metadata": {},
   "source": [
    "# Break and Continue in For Loop"
   ]
  },
  {
   "cell_type": "code",
   "execution_count": null,
   "id": "442ec5e6",
   "metadata": {},
   "outputs": [],
   "source": [
    "for number in range(10):\n",
    "    number = number + 1\n",
    "    \n",
    "    if number == 5:\n",
    "        break  # break here\n",
    "        \n",
    "    print('Number is ',(number))\n",
    "\n",
    "print('Out of Loop')    \n",
    "    "
   ]
  },
  {
   "cell_type": "code",
   "execution_count": null,
   "id": "8653fef2",
   "metadata": {},
   "outputs": [],
   "source": [
    "# Sum integer values within range less than 50 (using break command)\n",
    "sum = 0\n",
    "for i in range(101): \n",
    "    if i == 51:\n",
    "        break\n",
    "    sum += i\n",
    "    \n",
    "print(sum)"
   ]
  },
  {
   "cell_type": "code",
   "execution_count": null,
   "id": "fd04ded9",
   "metadata": {},
   "outputs": [],
   "source": [
    "for number in range(10):\n",
    "    number = number + 1\n",
    "    \n",
    "    if number == 5:\n",
    "        continue  # continue here\n",
    "    print('Number is ',str(number))   \n",
    "print('Out of Loop')   "
   ]
  },
  {
   "cell_type": "markdown",
   "id": "9e3b3bc1",
   "metadata": {},
   "source": [
    "# 1.\tWrite a Python program that prints all the numbers from 0 to 6 except 3 and 6. \n",
    "Note: Use 'continue' statement.\n",
    "Expected Output: 0 1 2 4 5\n"
   ]
  },
  {
   "cell_type": "code",
   "execution_count": 23,
   "id": "8610acb3",
   "metadata": {},
   "outputs": [
    {
     "name": "stdout",
     "output_type": "stream",
     "text": [
      "1\n",
      "2\n",
      "3\n",
      "4\n"
     ]
    }
   ],
   "source": [
    "#printing no.s from 1 to 4\n",
    "i=1\n",
    "while True:\n",
    "    \n",
    "    if i==5:\n",
    "        break    \n",
    "    print(i) \n",
    "    i+=1"
   ]
  },
  {
   "cell_type": "code",
   "execution_count": null,
   "id": "2fe3c23f",
   "metadata": {},
   "outputs": [],
   "source": []
  }
 ],
 "metadata": {
  "kernelspec": {
   "display_name": "Python 3",
   "language": "python",
   "name": "python3"
  },
  "language_info": {
   "codemirror_mode": {
    "name": "ipython",
    "version": 3
   },
   "file_extension": ".py",
   "mimetype": "text/x-python",
   "name": "python",
   "nbconvert_exporter": "python",
   "pygments_lexer": "ipython3",
   "version": "3.8.8"
  }
 },
 "nbformat": 4,
 "nbformat_minor": 5
}
