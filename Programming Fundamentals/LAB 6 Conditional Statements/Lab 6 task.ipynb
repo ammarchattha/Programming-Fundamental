{
 "cells": [
  {
   "cell_type": "markdown",
   "metadata": {},
   "source": [
    "# task 1"
   ]
  },
  {
   "cell_type": "code",
   "execution_count": 1,
   "metadata": {
    "scrolled": true
   },
   "outputs": [
    {
     "name": "stdout",
     "output_type": "stream",
     "text": [
      "enter the alphabets:a\n",
      "the alphabets is vowels\n"
     ]
    }
   ],
   "source": [
    "alphabet=input(\"enter the alphabets:\")\n",
    "vowels=\"a,e,i,o,u\"\n",
    "if alphabet in vowels:\n",
    "    print(\"the alphabets is vowels\")\n",
    "else:\n",
    "    print(\"alphabet is  consonant\") "
   ]
  },
  {
   "cell_type": "code",
   "execution_count": 2,
   "metadata": {},
   "outputs": [
    {
     "name": "stdout",
     "output_type": "stream",
     "text": [
      "enter the alphabets:t\n",
      "alphabet is  consonant\n"
     ]
    }
   ],
   "source": [
    "alphabet=input(\"enter the alphabets:\")\n",
    "vowels=\"a,e,i,o,u\"\n",
    "if alphabet in vowels:\n",
    "    print(\"the alphabets is vowels\")\n",
    "else:\n",
    "    print(\"alphabet is  consonant\")"
   ]
  },
  {
   "cell_type": "code",
   "execution_count": 3,
   "metadata": {
    "scrolled": true
   },
   "outputs": [
    {
     "name": "stdout",
     "output_type": "stream",
     "text": [
      "enter the alphabets:u\n",
      "the alphabets is vowels\n"
     ]
    }
   ],
   "source": [
    "alphabet=input(\"enter the alphabets:\")\n",
    "vowels=\"a,e,i,o,u\"\n",
    "if alphabet in vowels:\n",
    "    print(\"the alphabets is vowels\")\n",
    "else:\n",
    "    print(\"alphabet is  consonant\")"
   ]
  },
  {
   "cell_type": "markdown",
   "metadata": {},
   "source": [
    "# task 2"
   ]
  },
  {
   "cell_type": "code",
   "execution_count": 4,
   "metadata": {},
   "outputs": [
    {
     "name": "stdout",
     "output_type": "stream",
     "text": [
      "enter the value of x:12\n",
      "enter the value of y:12\n",
      "enter the value of z:12\n",
      "Equilateral triangles\n"
     ]
    }
   ],
   "source": [
    "x=int(input(\"enter the value of x:\"))\n",
    "y=int(input(\"enter the value of y:\"))\n",
    "z=int(input(\"enter the value of z:\"))\n",
    "if x==y==z:\n",
    "    print(\"Equilateral triangles\")\n",
    "elif x==y!=z:\n",
    "    print(\"Isoceles triangles\")\n",
    "else:\n",
    "    print (\"Scalene triangles\")"
   ]
  },
  {
   "cell_type": "code",
   "execution_count": 5,
   "metadata": {},
   "outputs": [
    {
     "name": "stdout",
     "output_type": "stream",
     "text": [
      "enter the value of x:12\n",
      "enter the value of y:12\n",
      "enter the value of z:13\n",
      "Isoceles triangles\n"
     ]
    }
   ],
   "source": [
    "x=int(input(\"enter the value of x:\"))\n",
    "y=int(input(\"enter the value of y:\"))\n",
    "z=int(input(\"enter the value of z:\"))\n",
    "if x==y==z:\n",
    "    print(\"Equilateral triangles\")\n",
    "elif x==y!=z:\n",
    "    print(\"Isoceles triangles\")\n",
    "else:\n",
    "    print (\"Scalene triangles\")"
   ]
  },
  {
   "cell_type": "code",
   "execution_count": 6,
   "metadata": {},
   "outputs": [
    {
     "name": "stdout",
     "output_type": "stream",
     "text": [
      "enter the value of x:12\n",
      "enter the value of y:13\n",
      "enter the value of z:14\n",
      "Scalene triangles\n"
     ]
    }
   ],
   "source": [
    "x=int(input(\"enter the value of x:\"))\n",
    "y=int(input(\"enter the value of y:\"))\n",
    "z=int(input(\"enter the value of z:\"))\n",
    "if x==y==z:\n",
    "    print(\"Equilateral triangles\")\n",
    "elif x==y!=z:\n",
    "    print(\"Isoceles triangles\")\n",
    "else:\n",
    "    print (\"Scalene triangles\")"
   ]
  },
  {
   "cell_type": "markdown",
   "metadata": {},
   "source": [
    "# task 3\n"
   ]
  },
  {
   "cell_type": "code",
   "execution_count": null,
   "metadata": {},
   "outputs": [],
   "source": []
  },
  {
   "cell_type": "code",
   "execution_count": 1,
   "metadata": {},
   "outputs": [
    {
     "name": "stdout",
     "output_type": "stream",
     "text": [
      "Please select operation -\n",
      "1. Add\n",
      "2. Subtract\n",
      "3. Multiply\n",
      "4. Divide\n",
      "\n",
      "Select operations form 1, 2, 3, 4 :2\n",
      "Enter first number: 3\n",
      "Enter second number: 4\n",
      "3 - 4 = -1\n"
     ]
    }
   ],
   "source": [
    "# Function to add two numbers \n",
    "def add(x,y):\n",
    "    return x+y\n",
    "  \n",
    "# Function to subtract two numbers \n",
    "def subtract(x,y):\n",
    "    return x-y\n",
    "  \n",
    "# Function to multiply two numbers\n",
    "def multiply(x,y):\n",
    "    return x*y\n",
    "  \n",
    "# Function to divide two numbers\n",
    "def divide(x,y):\n",
    "    return x/y\n",
    "\n",
    "print(\"Please select operation -\\n\" \\\n",
    "        \"1. Add\\n\" \\\n",
    "        \"2. Subtract\\n\" \\\n",
    "        \"3. Multiply\\n\" \\\n",
    "        \"4. Divide\\n\")\n",
    "\n",
    "select = int(input(\"Select operations form 1, 2, 3, 4 :\"))\n",
    "  \n",
    "x = int(input(\"Enter first number: \"))\n",
    "y = int(input(\"Enter second number: \"))\n",
    "  \n",
    "if select == 1:\n",
    "    print(x, \"+\", y, \"=\",\n",
    "                    add(x, y))\n",
    "  \n",
    "elif select == 2:\n",
    "    print(x, \"-\",y, \"=\",\n",
    "                    subtract(x,y))\n",
    "  \n",
    "elif select == 3:\n",
    "    print(x, \"*\", y, \"=\",\n",
    "                    multiply(x,y))\n",
    "  \n",
    "elif select == 4:\n",
    "    print(x, \"/\", y, \"=\",\n",
    "                    divide(x,y))\n",
    "else:\n",
    "    print(\"Invalid input\")"
   ]
  },
  {
   "cell_type": "markdown",
   "metadata": {},
   "source": [
    "# task 4"
   ]
  },
  {
   "cell_type": "code",
   "execution_count": 1,
   "metadata": {},
   "outputs": [
    {
     "name": "stdout",
     "output_type": "stream",
     "text": [
      "15 is greater odd number\n"
     ]
    }
   ],
   "source": [
    "def largest_odd(x,y):\n",
    "    if x% 2 and y%2 !=0:\n",
    "        print(max(x,y),\"is greater odd number\")\n",
    "    elif x% 2==0 and y% 2!=0:\n",
    "        print(y,\"y is greater odd number\")\n",
    "    elif x% 2 !=0 and y% 2==0:\n",
    "        print(x,\"x is greater odd number\")\n",
    "    else:\n",
    "        print(\"none of them are odd\")\n",
    "largest_odd(9,15)      "
   ]
  }
 ],
 "metadata": {
  "kernelspec": {
   "display_name": "Python 3",
   "language": "python",
   "name": "python3"
  },
  "language_info": {
   "codemirror_mode": {
    "name": "ipython",
    "version": 3
   },
   "file_extension": ".py",
   "mimetype": "text/x-python",
   "name": "python",
   "nbconvert_exporter": "python",
   "pygments_lexer": "ipython3",
   "version": "3.8.5"
  }
 },
 "nbformat": 4,
 "nbformat_minor": 4
}
