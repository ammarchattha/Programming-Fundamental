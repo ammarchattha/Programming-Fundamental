{
 "cells": [
  {
   "cell_type": "code",
   "execution_count": 1,
   "metadata": {},
   "outputs": [
    {
     "name": "stdout",
     "output_type": "stream",
     "text": [
      "x is less than y\n"
     ]
    }
   ],
   "source": [
    "# if statement\n",
    "x=100\n",
    "y=300\n",
    "if x<y:\n",
    "    print(\"x is less than y\")"
   ]
  },
  {
   "cell_type": "code",
   "execution_count": 2,
   "metadata": {},
   "outputs": [
    {
     "name": "stdout",
     "output_type": "stream",
     "text": [
      "3 is a positive number.\n",
      "This is always printed\n",
      "This is also printed.\n"
     ]
    }
   ],
   "source": [
    "# if the number is positive, we print an appropiate message\n",
    "num=3\n",
    "if num>0:\n",
    "    print(num,\"is a positive number.\")\n",
    "print(\"This is always printed\")  \n",
    "\n",
    "num=-1\n",
    "if num>0:\n",
    "    print(num,\"is a positive number.\")\n",
    "print(\"This is also printed.\") \n"
   ]
  },
  {
   "cell_type": "code",
   "execution_count": 3,
   "metadata": {},
   "outputs": [
    {
     "name": "stdout",
     "output_type": "stream",
     "text": [
      "Positive or Zero\n"
     ]
    }
   ],
   "source": [
    "#program checks if the number is positive or negative\n",
    "# And displays an appropiate message\n",
    "num=3\n",
    "\n",
    "# try these two variable as well\n",
    "#num =-5\n",
    "#num=0\n",
    "if num>=0:\n",
    "    print(\"Positive or Zero\")\n",
    "else:\n",
    "    print(\"Negative number\") "
   ]
  },
  {
   "cell_type": "code",
   "execution_count": 5,
   "metadata": {},
   "outputs": [
    {
     "name": "stdout",
     "output_type": "stream",
     "text": [
      "Positive number\n"
     ]
    }
   ],
   "source": [
    "# In this progran, we check if the number is positive\n",
    "#or negative or zero and display an appropiate message\n",
    "\n",
    "\n",
    "num=5\n",
    "#Try these two variables as well:\n",
    "#num=0\n",
    "#num= -4.5\n",
    "if num>0:\n",
    "    print(\"Positive number\")\n",
    "elif num==0:\n",
    "        print(\"Zero\")\n",
    "else:\n",
    "    print(\"Negative number\")\n"
   ]
  },
  {
   "cell_type": "code",
   "execution_count": 10,
   "metadata": {},
   "outputs": [
    {
     "name": "stdout",
     "output_type": "stream",
     "text": [
      "Enter a number: -6\n",
      "Negative number\n"
     ]
    }
   ],
   "source": [
    "num=float(input(\"Enter a number: \"))\n",
    "if num>=0:\n",
    "    if num==0:\n",
    "        print(\"Zero\")\n",
    "    else:\n",
    "        print(\"Positive number\")\n",
    "else:\n",
    "    print(\"Negative number\")\n",
    "        "
   ]
  },
  {
   "cell_type": "code",
   "execution_count": 13,
   "metadata": {},
   "outputs": [
    {
     "name": "stdout",
     "output_type": "stream",
     "text": [
      "Enter the marks ?45\n",
      "you score grade B... \n"
     ]
    }
   ],
   "source": [
    "marks=int(input(\"Enter the marks ?\"))\n",
    "if marks >85 and marks <=100:\n",
    "    print(\"Congrats ! you scored grade A....\")\n",
    "elif marks > 60 and marks<=85:\n",
    "    print(\"You scored grade B+...\")\n",
    "elif marks>40 and marks <=60:\n",
    "    print(\"you score grade B... \")\n",
    "elif (marks > 30 and marks<=40):\n",
    "    print(\"you score grade c...\")\n",
    "else:\n",
    "    print(\"Sorry you are fail?\")"
   ]
  },
  {
   "cell_type": "code",
   "execution_count": null,
   "metadata": {},
   "outputs": [],
   "source": []
  },
  {
   "cell_type": "code",
   "execution_count": null,
   "metadata": {},
   "outputs": [],
   "source": []
  },
  {
   "cell_type": "code",
   "execution_count": null,
   "metadata": {},
   "outputs": [],
   "source": []
  },
  {
   "cell_type": "code",
   "execution_count": null,
   "metadata": {},
   "outputs": [],
   "source": []
  },
  {
   "cell_type": "code",
   "execution_count": null,
   "metadata": {},
   "outputs": [],
   "source": []
  },
  {
   "cell_type": "code",
   "execution_count": null,
   "metadata": {},
   "outputs": [],
   "source": []
  }
 ],
 "metadata": {
  "kernelspec": {
   "display_name": "Python 3",
   "language": "python",
   "name": "python3"
  },
  "language_info": {
   "codemirror_mode": {
    "name": "ipython",
    "version": 3
   },
   "file_extension": ".py",
   "mimetype": "text/x-python",
   "name": "python",
   "nbconvert_exporter": "python",
   "pygments_lexer": "ipython3",
   "version": "3.8.5"
  }
 },
 "nbformat": 4,
 "nbformat_minor": 4
}
