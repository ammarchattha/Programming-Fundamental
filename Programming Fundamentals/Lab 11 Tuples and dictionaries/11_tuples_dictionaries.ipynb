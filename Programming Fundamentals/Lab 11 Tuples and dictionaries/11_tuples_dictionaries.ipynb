{
 "cells": [
  {
   "cell_type": "markdown",
   "id": "0d0d2fab",
   "metadata": {},
   "source": [
    "# Nested List / List of List\n",
    "Lists can contain elements of different types, including other lists, as illustrated here:"
   ]
  },
  {
   "cell_type": "code",
   "execution_count": null,
   "id": "4908c4a9",
   "metadata": {},
   "outputs": [],
   "source": [
    "# creating list\n",
    "nestedList = [1, 2, ['a', 1], 3]\n",
    "\n",
    "# indexing list: the sublist has now been accessed\n",
    "subList = nestedList[2]\n",
    "\n",
    "# access the first element inside the inner list:\n",
    "element = nestedList[2][1]\n",
    "\n",
    "print(\"List inside the nested list: \", subList)\n",
    "print(\"First element of the sublist: \", element)"
   ]
  },
  {
   "cell_type": "code",
   "execution_count": null,
   "id": "3f525ed7",
   "metadata": {},
   "outputs": [],
   "source": [
    "# create matrix of size 2 x 3\n",
    "matrix = [\n",
    "          [0, 1, 2],\n",
    "          [3, 4, 5]\n",
    "         ]\n",
    "\n",
    "rows = len(matrix)  # no of rows is no of sublists i.e. len of list\n",
    "cols = len(matrix[0])  # no of cols is len of sublist\n",
    "\n",
    "# printing matrix\n",
    "print(\"matrix: \")\n",
    "\n",
    "# print(matrix)\n",
    "for i in range(0, rows):\n",
    "    print(matrix[i])\n",
    "\n",
    "\n",
    "print(\"\\nNumber of rows \",rows)\n",
    "print(\"Number of columns \",cols)\n",
    "\n",
    "# accessing the element on row 2 and column 1 i.e. 3\n",
    "print(\"\\nelement on row 1 and column 0: \", matrix[1][0])\n",
    "\n",
    "# accessing the element on row 3 and column 2 i.e. 2\n",
    "print(\"element on row 0 and column 2: \", matrix[0][2])\n"
   ]
  },
  {
   "cell_type": "code",
   "execution_count": null,
   "id": "a7ba2ec2",
   "metadata": {},
   "outputs": [],
   "source": [
    "#nested for loop\n",
    "matrix = [[0, 1, 2],[3, 4, 5],[3, 4, \"Hello World\"] ]\n",
    "\n",
    "for i in range(3):\n",
    "    for j in range(3):\n",
    "        print(matrix[i][j],end=' ')\n",
    "\n",
    "        \n",
    "# for i in matrix:\n",
    "#     for j in i:\n",
    "#         print(j)        "
   ]
  },
  {
   "cell_type": "code",
   "execution_count": null,
   "id": "e83f4b87",
   "metadata": {},
   "outputs": [],
   "source": [
    "range(2)"
   ]
  },
  {
   "cell_type": "markdown",
   "id": "1000ef0f",
   "metadata": {},
   "source": [
    "# List Comprehension"
   ]
  },
  {
   "cell_type": "code",
   "execution_count": null,
   "id": "fc222c27",
   "metadata": {},
   "outputs": [],
   "source": [
    "#Using list comprehension\n",
    "digits= [d for d in range(0,10)]\n",
    "print(digits)"
   ]
  },
  {
   "cell_type": "code",
   "execution_count": null,
   "id": "60c52eac",
   "metadata": {},
   "outputs": [],
   "source": [
    "#Using For Loop\n",
    "digits=[]\n",
    "for i in range(0,10):\n",
    "    digits.append(i)\n",
    "print(digits)"
   ]
  },
  {
   "cell_type": "code",
   "execution_count": 3,
   "id": "60d19559",
   "metadata": {},
   "outputs": [
    {
     "name": "stdout",
     "output_type": "stream",
     "text": [
      "[0, 2, 4, 6, 8]\n"
     ]
    }
   ],
   "source": [
    "#USING FOR LOOP\n",
    "list1=[0,1,2,3,4,5,6,7,8,9]\n",
    "evens = []\n",
    "for i in list1:\n",
    "   if i % 2 == 0:\n",
    "      evens.append(i)\n",
    "print(evens)"
   ]
  },
  {
   "cell_type": "code",
   "execution_count": 6,
   "id": "8036e4bf",
   "metadata": {},
   "outputs": [
    {
     "name": "stdout",
     "output_type": "stream",
     "text": [
      "[0, 2, 4, 6, 8]\n"
     ]
    }
   ],
   "source": [
    "#USING List Comprehension\n",
    "list1=[0,1,2,3,4,5,6,7,8,9]\n",
    "evens = [i for i in list1 if i % 2 ==0]\n",
    "print(evens)"
   ]
  },
  {
   "cell_type": "code",
   "execution_count": 9,
   "id": "aa4ce9c5",
   "metadata": {},
   "outputs": [
    {
     "name": "stdout",
     "output_type": "stream",
     "text": [
      "['Even', 'Odd', 'Even', 'Odd', 'Even', 'Odd', 'Even', 'Odd', 'Even', 'Odd']\n"
     ]
    }
   ],
   "source": [
    "#USING FOR LOOP\n",
    "list1=[0,1,2,3,4,5,6,7,8,9]\n",
    "eve_odd = []\n",
    "for i in list1:\n",
    "   if i % 2 == 0:\n",
    "      eve_odd.append(\"Even\")\n",
    "   else:\n",
    "    eve_odd.append(\"Odd\")\n",
    "print(eve_odd)"
   ]
  },
  {
   "cell_type": "code",
   "execution_count": 8,
   "id": "5b24d1c4",
   "metadata": {},
   "outputs": [
    {
     "name": "stdout",
     "output_type": "stream",
     "text": [
      "['Even', 'Odd', 'Even', 'Odd', 'Even', 'Odd', 'Even', 'Odd', 'Even', 'Odd']\n"
     ]
    }
   ],
   "source": [
    "#USING List Comprehension\n",
    "list1=[0,1,2,3,4,5,6,7,8,9]\n",
    "obj = [\"Even\" if i%2==0 else \"Odd\"  for i in list1 ]\n",
    "print(obj)"
   ]
  },
  {
   "cell_type": "markdown",
   "id": "9f15c100",
   "metadata": {},
   "source": [
    "# Tuple\n",
    "A tuple is a collection which is unchangeable. In Python tuples are written with round brackets. It is also known as constant list."
   ]
  },
  {
   "cell_type": "code",
   "execution_count": 10,
   "id": "61338f13",
   "metadata": {},
   "outputs": [
    {
     "name": "stdout",
     "output_type": "stream",
     "text": [
      "()\n"
     ]
    }
   ],
   "source": [
    "a=()\n",
    "print(a)"
   ]
  },
  {
   "cell_type": "code",
   "execution_count": 14,
   "id": "83c8a4dc",
   "metadata": {},
   "outputs": [
    {
     "name": "stdout",
     "output_type": "stream",
     "text": [
      "('a', 'b')\n",
      "['a', 'b']\n",
      "[34, 'b']\n"
     ]
    }
   ],
   "source": [
    "a=(\"a\",\"b\")\n",
    "print(a)\n",
    "b=list(a)\n",
    "print(b)\n",
    "b[0]=34\n",
    "print(b)\n",
    "# print(type(b))\n"
   ]
  },
  {
   "cell_type": "code",
   "execution_count": 15,
   "id": "709514a5",
   "metadata": {},
   "outputs": [
    {
     "name": "stdout",
     "output_type": "stream",
     "text": [
      "b\n"
     ]
    }
   ],
   "source": [
    "a=(\"a\",\"b\")\n",
    "print(a[1])"
   ]
  },
  {
   "cell_type": "code",
   "execution_count": 18,
   "id": "594b50a3",
   "metadata": {},
   "outputs": [
    {
     "name": "stdout",
     "output_type": "stream",
     "text": [
      "Value of a: 1\n",
      "Value of b: 2\n",
      "Value of c: 3\n"
     ]
    }
   ],
   "source": [
    "#Multiple assignment through tuple\n",
    "t=(1,2,3,4,5)\n",
    "a,b,c,d,e=t\n",
    "print(\"Value of a:\",a)\n",
    "print(\"Value of b:\",b)\n",
    "print(\"Value of c:\",c)"
   ]
  },
  {
   "cell_type": "code",
   "execution_count": 19,
   "id": "c8ddf177",
   "metadata": {},
   "outputs": [
    {
     "name": "stdout",
     "output_type": "stream",
     "text": [
      "apple\n",
      "cherry\n",
      "mango\n"
     ]
    }
   ],
   "source": [
    "#loop through tuple\n",
    "thistuple = (\"apple\",\"cherry\",\"mango\")\n",
    "for i in thistuple:\n",
    "    print(i)"
   ]
  },
  {
   "cell_type": "code",
   "execution_count": 20,
   "id": "8ce5c6ae",
   "metadata": {},
   "outputs": [
    {
     "name": "stdout",
     "output_type": "stream",
     "text": [
      "apple\n",
      "cherry\n",
      "mango\n"
     ]
    }
   ],
   "source": [
    "#loop through tuple\n",
    "thistuple = (\"apple\",\"cherry\",\"mango\")\n",
    "length=len(thistuple)\n",
    "for i in range(length):\n",
    "    print(thistuple[i])"
   ]
  },
  {
   "cell_type": "code",
   "execution_count": 22,
   "id": "4e21bd93",
   "metadata": {},
   "outputs": [
    {
     "ename": "TypeError",
     "evalue": "'tuple' object does not support item assignment",
     "output_type": "error",
     "traceback": [
      "\u001b[1;31m---------------------------------------------------------------------------\u001b[0m",
      "\u001b[1;31mTypeError\u001b[0m                                 Traceback (most recent call last)",
      "\u001b[1;32m<ipython-input-22-3cdb3b261a65>\u001b[0m in \u001b[0;36m<module>\u001b[1;34m\u001b[0m\n\u001b[0;32m      1\u001b[0m \u001b[1;31m#loop through tuple\u001b[0m\u001b[1;33m\u001b[0m\u001b[1;33m\u001b[0m\u001b[1;33m\u001b[0m\u001b[0m\n\u001b[0;32m      2\u001b[0m \u001b[0mthistuple\u001b[0m \u001b[1;33m=\u001b[0m \u001b[1;33m(\u001b[0m\u001b[1;34m\"apple\"\u001b[0m\u001b[1;33m,\u001b[0m\u001b[1;34m\"cherry\"\u001b[0m\u001b[1;33m,\u001b[0m\u001b[1;34m\"mango\"\u001b[0m\u001b[1;33m)\u001b[0m\u001b[1;33m\u001b[0m\u001b[1;33m\u001b[0m\u001b[0m\n\u001b[1;32m----> 3\u001b[1;33m \u001b[0mthistuple\u001b[0m\u001b[1;33m[\u001b[0m\u001b[1;36m1\u001b[0m\u001b[1;33m]\u001b[0m\u001b[1;33m=\u001b[0m\u001b[1;34m\"orange\"\u001b[0m\u001b[1;33m\u001b[0m\u001b[1;33m\u001b[0m\u001b[0m\n\u001b[0m\u001b[0;32m      4\u001b[0m \u001b[0mthistuple\u001b[0m\u001b[1;33m\u001b[0m\u001b[1;33m\u001b[0m\u001b[0m\n",
      "\u001b[1;31mTypeError\u001b[0m: 'tuple' object does not support item assignment"
     ]
    }
   ],
   "source": [
    "#loop through tuple\n",
    "thistuple = (\"apple\",\"cherry\",\"mango\")\n",
    "thistuple[1]=\"orange\"\n",
    "thistuple"
   ]
  },
  {
   "cell_type": "code",
   "execution_count": 25,
   "id": "53cabce3",
   "metadata": {},
   "outputs": [],
   "source": [
    "#loop through tuple\n",
    "thistuple = (\"apple\",\"cherry\",\"mango\")\n",
    "del thistuple\n",
    "# print(thistuple)  # this will raise an error because the tuple no longer exist"
   ]
  },
  {
   "cell_type": "code",
   "execution_count": 28,
   "id": "bcf11fee",
   "metadata": {},
   "outputs": [
    {
     "name": "stdout",
     "output_type": "stream",
     "text": [
      "Yes,'apple' is in the fruits tuple\n"
     ]
    }
   ],
   "source": [
    "#loop through tuple\n",
    "thistuple = (\"apple\",\"cherry\",\"mango\")\n",
    "if \"apple\" in thistuple:\n",
    "    print(\"Yes,'apple' is in the fruits tuple\")\n"
   ]
  },
  {
   "cell_type": "code",
   "execution_count": 32,
   "id": "ecc4e397",
   "metadata": {},
   "outputs": [
    {
     "name": "stdout",
     "output_type": "stream",
     "text": [
      "2\n"
     ]
    }
   ],
   "source": [
    "num_tuple=(1,3,7,8,7,5,4,6,8,5,90,90)\n",
    "x=num_tuple.count(90)\n",
    "print(x)"
   ]
  },
  {
   "cell_type": "code",
   "execution_count": 33,
   "id": "8c9b11ea",
   "metadata": {},
   "outputs": [
    {
     "name": "stdout",
     "output_type": "stream",
     "text": [
      "10\n"
     ]
    }
   ],
   "source": [
    "num_tuple=(1,3,7,8,7,5,4,6,8,5)\n",
    "x=len(num_tuple)\n",
    "print(x)"
   ]
  },
  {
   "cell_type": "code",
   "execution_count": 34,
   "id": "2cd97a40",
   "metadata": {},
   "outputs": [
    {
     "name": "stdout",
     "output_type": "stream",
     "text": [
      "3\n"
     ]
    }
   ],
   "source": [
    "num_tuple=(1,3,7,8,7,5,4,6,8,5)\n",
    "x=num_tuple.index(8)\n",
    "print(x)"
   ]
  },
  {
   "cell_type": "markdown",
   "id": "2c2225e3",
   "metadata": {},
   "source": [
    "# Dictionaries\n",
    "Dictionaries are used to store data values in key: value pairs."
   ]
  },
  {
   "cell_type": "code",
   "execution_count": null,
   "id": "25220917",
   "metadata": {},
   "outputs": [],
   "source": [
    "thisdict = {}\n",
    "print(thisdict)"
   ]
  },
  {
   "cell_type": "code",
   "execution_count": 37,
   "id": "efe3e5ac",
   "metadata": {},
   "outputs": [
    {
     "name": "stdout",
     "output_type": "stream",
     "text": [
      "Ford\n"
     ]
    }
   ],
   "source": [
    "thisdict = {\n",
    "  \"brand\": \"Ford\",\n",
    "  \"model\": \"Mustang\",\n",
    "  \"year\": 1964\n",
    "}\n",
    "x= thisdict[\"brand\"]\n",
    "print(x)"
   ]
  },
  {
   "cell_type": "code",
   "execution_count": 36,
   "id": "32f04627",
   "metadata": {},
   "outputs": [
    {
     "name": "stdout",
     "output_type": "stream",
     "text": [
      "Ford\n"
     ]
    }
   ],
   "source": [
    "thisdict = {\n",
    "  \"brand\": \"Ford\",\n",
    "  \"model\": \"Mustang\",\n",
    "  \"year\": 1964\n",
    "}\n",
    "x= thisdict.get(\"brand\")\n",
    "print(x)"
   ]
  },
  {
   "cell_type": "code",
   "execution_count": 38,
   "id": "23d005ec",
   "metadata": {},
   "outputs": [
    {
     "name": "stdout",
     "output_type": "stream",
     "text": [
      "{'brand': 'Ford', 'model': 'Mustang', 'year': 2018}\n"
     ]
    }
   ],
   "source": [
    "thisdict = {\n",
    "  \"brand\": \"Ford\",\n",
    "  \"model\": \"Mustang\",\n",
    "  \"year\": 1964\n",
    "}\n",
    "thisdict['year'] =2018\n",
    "print(thisdict)"
   ]
  },
  {
   "cell_type": "code",
   "execution_count": 39,
   "id": "35091d88",
   "metadata": {},
   "outputs": [
    {
     "name": "stdout",
     "output_type": "stream",
     "text": [
      "{'brand': 'Ford', 'model': 'Mustang', 'year': 1964, 'color': 'black'}\n"
     ]
    }
   ],
   "source": [
    "thisdict = {\n",
    "  \"brand\": \"Ford\",\n",
    "  \"model\": \"Mustang\",\n",
    "  \"year\": 1964\n",
    "}\n",
    "thisdict['color'] = 'black'\n",
    "print(thisdict)"
   ]
  },
  {
   "cell_type": "code",
   "execution_count": 40,
   "id": "4846348e",
   "metadata": {},
   "outputs": [
    {
     "name": "stdout",
     "output_type": "stream",
     "text": [
      "{'brand': 'Ford', 'year': 1964}\n"
     ]
    }
   ],
   "source": [
    "thisdict = {\n",
    "  \"brand\": \"Ford\",\n",
    "  \"model\": \"Mustang\",\n",
    "  \"year\": 1964\n",
    "}\n",
    "thisdict.pop(\"model\")\n",
    "print(thisdict)"
   ]
  },
  {
   "cell_type": "code",
   "execution_count": 41,
   "id": "c65c0df2",
   "metadata": {},
   "outputs": [
    {
     "name": "stdout",
     "output_type": "stream",
     "text": [
      "{'brand': 'Ford', 'model': 'Mustang'}\n"
     ]
    }
   ],
   "source": [
    "thisdict = {\n",
    "  \"brand\": \"Ford\",\n",
    "  \"model\": \"Mustang\",\n",
    "  \"year\": 1964\n",
    "}\n",
    "thisdict.popitem()\n",
    "print(thisdict)"
   ]
  },
  {
   "cell_type": "code",
   "execution_count": 42,
   "id": "ae1b79cd",
   "metadata": {},
   "outputs": [
    {
     "name": "stdout",
     "output_type": "stream",
     "text": [
      "{'brand': 'Ford', 'year': 1964}\n"
     ]
    }
   ],
   "source": [
    "thisdict = {\n",
    "  \"brand\": \"Ford\",\n",
    "  \"model\": \"Mustang\",\n",
    "  \"year\": 1964\n",
    "}\n",
    "del thisdict[\"model\"]\n",
    "print(thisdict)"
   ]
  },
  {
   "cell_type": "code",
   "execution_count": null,
   "id": "55b800f0",
   "metadata": {},
   "outputs": [],
   "source": [
    "thisdict = {\n",
    "  \"brand\": \"Ford\",\n",
    "  \"model\": \"Mustang\",\n",
    "  \"year\": 1964\n",
    "}\n",
    "del thisdict\n",
    "print(thisdict)"
   ]
  },
  {
   "cell_type": "code",
   "execution_count": 43,
   "id": "d5ccc9e3",
   "metadata": {},
   "outputs": [
    {
     "name": "stdout",
     "output_type": "stream",
     "text": [
      "{}\n"
     ]
    }
   ],
   "source": [
    "thisdict = {\n",
    "  \"brand\": \"Ford\",\n",
    "  \"model\": \"Mustang\",\n",
    "  \"year\": 1964\n",
    "}\n",
    "thisdict.clear()\n",
    "print(thisdict)"
   ]
  },
  {
   "cell_type": "code",
   "execution_count": 46,
   "id": "1567321c",
   "metadata": {},
   "outputs": [
    {
     "name": "stdout",
     "output_type": "stream",
     "text": [
      "brand\n",
      "model\n",
      "year\n"
     ]
    }
   ],
   "source": [
    "thisdict = {\n",
    "  \"brand\": \"Ford\",\n",
    "  \"model\": \"Mustang\",\n",
    "  \"year\": 1964\n",
    "}\n",
    "for x in thisdict:\n",
    "    print(x)\n"
   ]
  },
  {
   "cell_type": "code",
   "execution_count": 45,
   "id": "7f6f9d0c",
   "metadata": {},
   "outputs": [
    {
     "name": "stdout",
     "output_type": "stream",
     "text": [
      "Ford\n",
      "Mustang\n",
      "1964\n"
     ]
    }
   ],
   "source": [
    "thisdict = {\n",
    "  \"brand\": \"Ford\",\n",
    "  \"model\": \"Mustang\",\n",
    "  \"year\": 1964\n",
    "}\n",
    "for x in thisdict:\n",
    "    print(thisdict[x])\n"
   ]
  },
  {
   "cell_type": "code",
   "execution_count": 47,
   "id": "a3448e94",
   "metadata": {},
   "outputs": [
    {
     "name": "stdout",
     "output_type": "stream",
     "text": [
      "Ford\n",
      "Mustang\n",
      "1964\n"
     ]
    }
   ],
   "source": [
    "thisdict = {\n",
    "  \"brand\": \"Ford\",\n",
    "  \"model\": \"Mustang\",\n",
    "  \"year\": 1964\n",
    "}\n",
    "for x in thisdict.values():\n",
    "    print(x)\n"
   ]
  },
  {
   "cell_type": "code",
   "execution_count": 48,
   "id": "cc857334",
   "metadata": {},
   "outputs": [
    {
     "name": "stdout",
     "output_type": "stream",
     "text": [
      "brand Ford\n",
      "model Mustang\n",
      "year 1964\n"
     ]
    }
   ],
   "source": [
    "thisdict = {\n",
    "  \"brand\": \"Ford\",\n",
    "  \"model\": \"Mustang\",\n",
    "  \"year\": 1964\n",
    "}\n",
    "for x,y in thisdict.items():\n",
    "    print(x,y)\n"
   ]
  },
  {
   "cell_type": "code",
   "execution_count": 51,
   "id": "61754359",
   "metadata": {},
   "outputs": [
    {
     "name": "stdout",
     "output_type": "stream",
     "text": [
      "Yes, 'model' is one of the keys in the thisdict dictionary\n"
     ]
    }
   ],
   "source": [
    "thisdict = {\n",
    "  \"brand\": \"Ford\",\n",
    "  \"model\": \"Mustang\",\n",
    "  \"year\": 1964\n",
    "}\n",
    "if \"model\" in thisdict:\n",
    "    print(\"Yes, 'model' is one of the keys in the thisdict dictionary\")\n"
   ]
  },
  {
   "cell_type": "code",
   "execution_count": 52,
   "id": "33c63e95",
   "metadata": {},
   "outputs": [
    {
     "data": {
      "text/plain": [
       "3"
      ]
     },
     "execution_count": 52,
     "metadata": {},
     "output_type": "execute_result"
    }
   ],
   "source": [
    "thisdict = {\n",
    "  \"brand\": \"Ford\",\n",
    "  \"model\": \"Mustang\",\n",
    "  \"year\": 1964\n",
    "}\n",
    "len(thisdict)"
   ]
  },
  {
   "cell_type": "code",
   "execution_count": 53,
   "id": "fded737b",
   "metadata": {},
   "outputs": [],
   "source": [
    "def myFunt(a):\n",
    "    loop\n",
    "    values add \n",
    "\n",
    "a={\"a\":3,\"b\":4,\"c\":6}\n",
    "myFunct(a)"
   ]
  },
  {
   "cell_type": "code",
   "execution_count": 54,
   "id": "adccc41b",
   "metadata": {},
   "outputs": [],
   "source": [
    "t_tuple=(3,5,2,5)"
   ]
  },
  {
   "cell_type": "code",
   "execution_count": null,
   "id": "439d8670",
   "metadata": {},
   "outputs": [],
   "source": [
    "grades={\n",
    "    \"A\":4.0,\"A-\":3.67,\"B+\":3.33,\"C+\":1.33\n",
    "}\n",
    "\n",
    "g1='A'\n",
    "\n",
    "points = grades['C']\n"
   ]
  }
 ],
 "metadata": {
  "kernelspec": {
   "display_name": "Python 3",
   "language": "python",
   "name": "python3"
  },
  "language_info": {
   "codemirror_mode": {
    "name": "ipython",
    "version": 3
   },
   "file_extension": ".py",
   "mimetype": "text/x-python",
   "name": "python",
   "nbconvert_exporter": "python",
   "pygments_lexer": "ipython3",
   "version": "3.8.8"
  }
 },
 "nbformat": 4,
 "nbformat_minor": 5
}
