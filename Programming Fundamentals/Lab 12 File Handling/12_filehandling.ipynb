{
 "cells": [
  {
   "cell_type": "code",
   "execution_count": 7,
   "id": "3b8fe638",
   "metadata": {},
   "outputs": [
    {
     "name": "stdout",
     "output_type": "stream",
     "text": [
      "The read str is:  Python is a great language.\n",
      "Yeah its great!!\n",
      "\n"
     ]
    }
   ],
   "source": [
    "# reading text from a file\n",
    "file = open(\"foo.txt\", \"r\")\n",
    "r_str=file.read()\n",
    "print(\"The read str is: \",r_str)\n",
    "# Close opend file\n",
    "file.close()"
   ]
  },
  {
   "cell_type": "code",
   "execution_count": 9,
   "id": "7b0c7b17",
   "metadata": {},
   "outputs": [
    {
     "name": "stdout",
     "output_type": "stream",
     "text": [
      "Name of the file:  foo.txt\n",
      "Closed or not :  False\n",
      "Opening mode :  w\n",
      "Closed or not :  True\n"
     ]
    }
   ],
   "source": [
    "# Opening  a file writing some text\n",
    "file = open(\"foo.txt\", \"w\")\n",
    "print (\"Name of the file: \", file.name)\n",
    "print (\"Closed or not : \", file.closed)\n",
    "print (\"Opening mode : \", file.mode)\n",
    "file.write(\"Python is a great language.\\nYeah its great!!\\n\")\n",
    "file.close()\n",
    "print (\"Closed or not : \", file.closed)"
   ]
  },
  {
   "cell_type": "code",
   "execution_count": 3,
   "id": "c70195ea",
   "metadata": {},
   "outputs": [
    {
     "name": "stdout",
     "output_type": "stream",
     "text": [
      "Name of the file:  foo.txt\n",
      "Closed or not :  False\n",
      "Opening mode :  w\n",
      "Closed or not :  True\n"
     ]
    }
   ],
   "source": [
    "# Opening  a file writing some text\n",
    "file = open(\"foo.txt\", \"a\")\n",
    "print (\"Name of the file: \", file.name)\n",
    "print (\"Closed or not : \", file.closed)\n",
    "print (\"Opening mode : \", file.mode)\n",
    "file.write(\"The quick brown fox jumps over the lazy dog.\")\n",
    "file.close()\n",
    "print (\"Closed or not : \", file.closed)"
   ]
  },
  {
   "cell_type": "code",
   "execution_count": 5,
   "id": "280af0c9",
   "metadata": {},
   "outputs": [
    {
     "name": "stdout",
     "output_type": "stream",
     "text": [
      "1st Line\n",
      "\n",
      "2nd Line\n",
      "\n",
      "3rd Line\n",
      "\n"
     ]
    }
   ],
   "source": [
    "# looping over a file object\n",
    "file = open(\"untitled.txt\",\"r\")\n",
    "# You can return one line by using the readline() method:\n",
    "# By calling readline() two times, you can read the two first lines:\n",
    "print(file.readline())\n",
    "print(file.readline())\n",
    "print(file.readline())"
   ]
  },
  {
   "cell_type": "code",
   "execution_count": 4,
   "id": "dc4e4679",
   "metadata": {
    "scrolled": true
   },
   "outputs": [
    {
     "name": "stdout",
     "output_type": "stream",
     "text": [
      "1st Line\n",
      "2nd Line\n",
      "3rd Line\n",
      "4th Line\n",
      "5th Line\n"
     ]
    }
   ],
   "source": [
    "# looping over a file object\n",
    "# By looping through the lines of the file, you can read the whole file, line by line:\n",
    "file = open(\"untitled.txt\",\"r\")\n",
    "for row in file:\n",
    "    row = row.strip('\\n')\n",
    "    print(row)\n"
   ]
  },
  {
   "cell_type": "code",
   "execution_count": 21,
   "id": "c66e9dc9",
   "metadata": {},
   "outputs": [
    {
     "name": "stdout",
     "output_type": "stream",
     "text": [
      "Read String is :  Python is \n",
      "Current file position :  10\n",
      "Again read String is :  a great la\n"
     ]
    }
   ],
   "source": [
    "# Open a file\n",
    "fo = open(\"foo.txt\", \"r+\")\n",
    "str = fo.read(10);\n",
    "print (\"Read String is : \", str)\n",
    "# Check current position\n",
    "position = fo.tell();\n",
    "print (\"Current file position : \", position)\n",
    "# Reposition pointer at the beginning once again\n",
    "# position = fo.seek(0, 0);\n",
    "str = fo.read(10);\n",
    "print (\"Again read String is : \", str)\n",
    "# Close opend file\n",
    "fo.close()"
   ]
  },
  {
   "cell_type": "code",
   "execution_count": 32,
   "id": "5a8028f5",
   "metadata": {},
   "outputs": [],
   "source": [
    "import os\n",
    "# Rename a file from test1.txt to test2.txt\n",
    "os.rename( \"test1.txt\", \"test2.txt\" )"
   ]
  },
  {
   "cell_type": "code",
   "execution_count": 33,
   "id": "b2d8f4df",
   "metadata": {},
   "outputs": [],
   "source": [
    "import os\n",
    "# Delete file test2.txt\n",
    "os.remove(\"test2.txt\")"
   ]
  },
  {
   "cell_type": "code",
   "execution_count": 34,
   "id": "2607839e",
   "metadata": {},
   "outputs": [],
   "source": [
    "import os\n",
    "# This would remove \"myfolder\" directory.\n",
    "os.rmdir( \"myfolder\" )"
   ]
  },
  {
   "cell_type": "code",
   "execution_count": 27,
   "id": "87147294",
   "metadata": {},
   "outputs": [],
   "source": [
    "# example to create a directory test in the current directory\n",
    "import os\n",
    "# Create a directory \"test\"\n",
    "os.mkdir(\"test\")"
   ]
  },
  {
   "cell_type": "code",
   "execution_count": 28,
   "id": "8197c790",
   "metadata": {},
   "outputs": [
    {
     "data": {
      "text/plain": [
       "'D:\\\\Usman\\\\FAST\\\\Fall2021\\\\PF\\\\Programs\\\\my_nb'"
      ]
     },
     "execution_count": 28,
     "metadata": {},
     "output_type": "execute_result"
    }
   ],
   "source": [
    "os.getcwd()"
   ]
  },
  {
   "cell_type": "code",
   "execution_count": 10,
   "id": "12f78362",
   "metadata": {},
   "outputs": [
    {
     "name": "stdout",
     "output_type": "stream",
     "text": [
      "files\\names.txt\n"
     ]
    }
   ],
   "source": [
    "import os\n",
    "folder=\"files\"\n",
    "name=\"names.txt\"\n",
    "filename=os.path.join(folder,name)\n",
    "print(filename)"
   ]
  },
  {
   "cell_type": "code",
   "execution_count": null,
   "id": "2996860c",
   "metadata": {},
   "outputs": [],
   "source": [
    "# To delete a file, you must import the OS module, and run its os.remove() function:\n",
    "\n",
    "import os\n",
    "# This would remove \"/tmp/test\" directory.\n",
    "os.remove( \"foo2.txt\" )"
   ]
  },
  {
   "cell_type": "code",
   "execution_count": 39,
   "id": "eddb51aa",
   "metadata": {},
   "outputs": [
    {
     "name": "stdout",
     "output_type": "stream",
     "text": [
      "The file does not exist\n"
     ]
    }
   ],
   "source": [
    "# Check if File exist:\n",
    "# To avoid getting an error, you might want to check if the file exists before you try to delete it:\n",
    "import os\n",
    "if os.path.exists(\"foo2.txt\"):\n",
    "  os.remove(\"foo2.txt\")\n",
    "else:\n",
    "  print(\"The file does not exist\")"
   ]
  },
  {
   "cell_type": "code",
   "execution_count": null,
   "id": "d878835c",
   "metadata": {},
   "outputs": [],
   "source": []
  }
 ],
 "metadata": {
  "kernelspec": {
   "display_name": "Python 3",
   "language": "python",
   "name": "python3"
  },
  "language_info": {
   "codemirror_mode": {
    "name": "ipython",
    "version": 3
   },
   "file_extension": ".py",
   "mimetype": "text/x-python",
   "name": "python",
   "nbconvert_exporter": "python",
   "pygments_lexer": "ipython3",
   "version": "3.8.8"
  }
 },
 "nbformat": 4,
 "nbformat_minor": 5
}
