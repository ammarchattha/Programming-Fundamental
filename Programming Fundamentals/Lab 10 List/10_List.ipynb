{
 "cells": [
  {
   "cell_type": "markdown",
   "id": "45b2c166",
   "metadata": {},
   "source": [
    "# List"
   ]
  },
  {
   "cell_type": "code",
   "execution_count": null,
   "id": "d44761ef",
   "metadata": {},
   "outputs": [],
   "source": [
    "empty_list= []\n",
    "weekdays= ['Monday','Tuesday','Wednesday','Thursday','Friday']\n",
    "first_names= ['Ali','John','David','Michael']\n",
    "list_d=['salt',1,'kg','white',23.5]    # a single list can hold elements of different data types unlike arrays in c++\n",
    "list_d"
   ]
  },
  {
   "cell_type": "code",
   "execution_count": null,
   "id": "c733c39d",
   "metadata": {},
   "outputs": [],
   "source": [
    "# another_empty_list=list()\n",
    "another_empty_list=[]\n",
    "another_empty_list"
   ]
  },
  {
   "cell_type": "code",
   "execution_count": null,
   "id": "acd7584e",
   "metadata": {},
   "outputs": [],
   "source": [
    "list('cat')"
   ]
  },
  {
   "cell_type": "code",
   "execution_count": null,
   "id": "0acbb289",
   "metadata": {},
   "outputs": [],
   "source": [
    "int('23')"
   ]
  },
  {
   "cell_type": "code",
   "execution_count": null,
   "id": "20424ae2",
   "metadata": {},
   "outputs": [],
   "source": [
    "birthday='1/6/1952'\n",
    "birthday.split('/')"
   ]
  },
  {
   "cell_type": "code",
   "execution_count": null,
   "id": "3bdb47b8",
   "metadata": {},
   "outputs": [],
   "source": [
    "splitme = 'a/b//c/d///e'\n",
    "splitme.split('/')"
   ]
  },
  {
   "cell_type": "markdown",
   "id": "94e85ee2",
   "metadata": {},
   "source": [
    "# Strings"
   ]
  },
  {
   "cell_type": "code",
   "execution_count": null,
   "id": "78b1b7e8",
   "metadata": {},
   "outputs": [],
   "source": [
    "mystring='Hello'\n",
    "\n",
    "print(mystring[0])\n",
    "print(mystring[2])"
   ]
  },
  {
   "cell_type": "code",
   "execution_count": null,
   "id": "d34922b7",
   "metadata": {},
   "outputs": [],
   "source": [
    "print(mystring[4])"
   ]
  },
  {
   "cell_type": "code",
   "execution_count": null,
   "id": "4c23b147",
   "metadata": {},
   "outputs": [],
   "source": [
    "print(mystring[-1])"
   ]
  },
  {
   "cell_type": "markdown",
   "id": "bc13db59",
   "metadata": {},
   "source": [
    "# List Index"
   ]
  },
  {
   "cell_type": "code",
   "execution_count": null,
   "id": "7084ceb5",
   "metadata": {},
   "outputs": [],
   "source": [
    "colors = ['red', 'green', 'blue', 'yellow', 'white', 'black']"
   ]
  },
  {
   "cell_type": "code",
   "execution_count": null,
   "id": "2a8228d8",
   "metadata": {},
   "outputs": [],
   "source": [
    "# colors[0]\n",
    "colors[0]"
   ]
  },
  {
   "cell_type": "code",
   "execution_count": null,
   "id": "9324fc4a",
   "metadata": {},
   "outputs": [],
   "source": [
    "colors[6]"
   ]
  },
  {
   "cell_type": "code",
   "execution_count": null,
   "id": "9a62ff7a",
   "metadata": {},
   "outputs": [],
   "source": [
    "colors[-1]"
   ]
  },
  {
   "cell_type": "markdown",
   "id": "c733245e",
   "metadata": {},
   "source": [
    "# Slicing"
   ]
  },
  {
   "cell_type": "code",
   "execution_count": null,
   "id": "0eb80397",
   "metadata": {},
   "outputs": [],
   "source": [
    "nums = [10, 20, 30, 40, 50, 60, 70, 80, 90]\n",
    "some_nums = nums[2:7]\n",
    "some_nums"
   ]
  },
  {
   "cell_type": "code",
   "execution_count": null,
   "id": "37dd3b6a",
   "metadata": {},
   "outputs": [],
   "source": [
    "max(nums)"
   ]
  },
  {
   "cell_type": "code",
   "execution_count": null,
   "id": "68fb1395",
   "metadata": {},
   "outputs": [],
   "source": [
    "nums[0:4]"
   ]
  },
  {
   "cell_type": "code",
   "execution_count": null,
   "id": "c9e200f3",
   "metadata": {},
   "outputs": [],
   "source": [
    "nums = [10, 20, 30, 40, 50, 60, 70, 80, 90]\n",
    "nums[:5]\n",
    "num[0:5]"
   ]
  },
  {
   "cell_type": "code",
   "execution_count": null,
   "id": "ae1aa4cb",
   "metadata": {},
   "outputs": [],
   "source": [
    "nums = [10, 20, 30, 40, 50, 60, 70, 80, 90]\n",
    "nums[-3:-1]"
   ]
  },
  {
   "cell_type": "code",
   "execution_count": null,
   "id": "b3f90f9a",
   "metadata": {},
   "outputs": [],
   "source": [
    "nums = [10, 20, 30, 40, 50, 60, 70, 80, 90]\n",
    "nums[1:-1]"
   ]
  },
  {
   "cell_type": "code",
   "execution_count": null,
   "id": "7f6fdc6d",
   "metadata": {},
   "outputs": [],
   "source": [
    "nums = [10, 20, 30, 40, 50, 60, 70, 80, 90]\n",
    "nums[-8:-2]"
   ]
  },
  {
   "cell_type": "code",
   "execution_count": null,
   "id": "2bf19a1f",
   "metadata": {},
   "outputs": [],
   "source": [
    "nums = [10, 20, 30, 40, 50, 60, 70, 80, 90]\n",
    "nums[-5:-1]"
   ]
  },
  {
   "cell_type": "code",
   "execution_count": null,
   "id": "6c9c933f",
   "metadata": {},
   "outputs": [],
   "source": [
    "nums = [10, 20, 30, 40, 50, 60, 70, 80, 90]\n",
    "nums[:-2]"
   ]
  },
  {
   "cell_type": "code",
   "execution_count": null,
   "id": "2d6c7c59",
   "metadata": {},
   "outputs": [],
   "source": [
    "nums = [10, 20, 30, 40, 50, 60, 70, 80, 90]\n",
    "nums[::3]\n"
   ]
  },
  {
   "cell_type": "code",
   "execution_count": null,
   "id": "627c5894",
   "metadata": {},
   "outputs": [],
   "source": [
    "nums = [10, 20, 30, 40, 50, 60, 70, 80, 90]\n",
    "nums[1::2]"
   ]
  },
  {
   "cell_type": "code",
   "execution_count": null,
   "id": "67ae87d6",
   "metadata": {},
   "outputs": [],
   "source": [
    "nums = [10, 20, 30, 40, 50, 60, 70, 80, 90]\n",
    "nums[1:-3:2]"
   ]
  },
  {
   "cell_type": "code",
   "execution_count": null,
   "id": "a28c2fe7",
   "metadata": {},
   "outputs": [],
   "source": [
    "nums = [10, 20, 30, 40, 50, 60, 70, 80, 90]\n",
    "nums[::1]\n"
   ]
  },
  {
   "cell_type": "markdown",
   "id": "50cca168",
   "metadata": {},
   "source": [
    "# Assignment / Update an Item"
   ]
  },
  {
   "cell_type": "code",
   "execution_count": null,
   "id": "78cc3ef1",
   "metadata": {},
   "outputs": [],
   "source": [
    "basket = ['bread', 'butter', 'milk']\n",
    "print(basket)\n",
    "basket[0] = 'cake'\n",
    "print(basket)\n",
    "basket[-1] = 'water'\n",
    "print(basket)"
   ]
  },
  {
   "cell_type": "markdown",
   "id": "43438eeb",
   "metadata": {},
   "source": [
    "# Insert an item"
   ]
  },
  {
   "cell_type": "code",
   "execution_count": null,
   "id": "48976af4",
   "metadata": {},
   "outputs": [],
   "source": [
    "basket = ['bread', 'butter', 'milk']\n",
    "basket.insert(0,'tea')\n",
    "basket"
   ]
  },
  {
   "cell_type": "markdown",
   "id": "22c00792",
   "metadata": {},
   "source": [
    "# Deletion"
   ]
  },
  {
   "cell_type": "code",
   "execution_count": null,
   "id": "215fd909",
   "metadata": {},
   "outputs": [],
   "source": [
    "basket = ['bread', 'butter', 'milk']\n",
    "del basket[0]\n",
    "print(basket)\n",
    "# del basket[1]\n",
    "# print(basket)"
   ]
  },
  {
   "cell_type": "markdown",
   "id": "771b52d1",
   "metadata": {},
   "source": [
    "# Combining two list (extend() & +=)"
   ]
  },
  {
   "cell_type": "code",
   "execution_count": null,
   "id": "904a29bf",
   "metadata": {},
   "outputs": [],
   "source": [
    "basket = ['bread', 'butter', 'milk']\n",
    "others = ['book','chair']\n",
    "basket.extend(others)\n",
    "basket"
   ]
  },
  {
   "cell_type": "code",
   "execution_count": 1,
   "id": "3fb17ff7",
   "metadata": {},
   "outputs": [
    {
     "data": {
      "text/plain": [
       "['bread', 'butter', 'milk', 'book', 'chair']"
      ]
     },
     "execution_count": 1,
     "metadata": {},
     "output_type": "execute_result"
    }
   ],
   "source": [
    "basket = ['bread', 'butter', 'milk']\n",
    "others = ['book','chair']\n",
    "basket+=others    # basket=basket+others\n",
    "basket"
   ]
  },
  {
   "cell_type": "code",
   "execution_count": 4,
   "id": "ddf19d41",
   "metadata": {},
   "outputs": [
    {
     "data": {
      "text/plain": [
       "1"
      ]
     },
     "execution_count": 4,
     "metadata": {},
     "output_type": "execute_result"
    }
   ],
   "source": [
    "basket = ['bread', 'butter', 'milk','tea']\n",
    "basket.index('butter')"
   ]
  },
  {
   "cell_type": "code",
   "execution_count": 5,
   "id": "e7a20455",
   "metadata": {},
   "outputs": [
    {
     "data": {
      "text/plain": [
       "True"
      ]
     },
     "execution_count": 5,
     "metadata": {},
     "output_type": "execute_result"
    }
   ],
   "source": [
    "basket = ['bread', 'butter', 'milk','tea']\n",
    "'tea' in basket"
   ]
  },
  {
   "cell_type": "code",
   "execution_count": 6,
   "id": "2d9d7e1d",
   "metadata": {},
   "outputs": [
    {
     "data": {
      "text/plain": [
       "False"
      ]
     },
     "execution_count": 6,
     "metadata": {},
     "output_type": "execute_result"
    }
   ],
   "source": [
    "basket = ['bread', 'butter', 'milk','tea']\n",
    "'sugar' in basket"
   ]
  },
  {
   "cell_type": "code",
   "execution_count": 7,
   "id": "ce95ab6a",
   "metadata": {},
   "outputs": [
    {
     "data": {
      "text/plain": [
       "0"
      ]
     },
     "execution_count": 7,
     "metadata": {},
     "output_type": "execute_result"
    }
   ],
   "source": [
    "basket = ['bread', 'butter', 'milk','tea']\n",
    "basket.count('sugar')"
   ]
  },
  {
   "cell_type": "code",
   "execution_count": 8,
   "id": "b8025ac7",
   "metadata": {},
   "outputs": [
    {
     "data": {
      "text/plain": [
       "1"
      ]
     },
     "execution_count": 8,
     "metadata": {},
     "output_type": "execute_result"
    }
   ],
   "source": [
    "basket = ['bread', 'butter', 'milk','tea']\n",
    "basket.count('tea')"
   ]
  },
  {
   "cell_type": "code",
   "execution_count": 9,
   "id": "4fcd02b3",
   "metadata": {},
   "outputs": [
    {
     "data": {
      "text/plain": [
       "['bread', 'butter', 'milk', 'sugar', 'tea']"
      ]
     },
     "execution_count": 9,
     "metadata": {},
     "output_type": "execute_result"
    }
   ],
   "source": [
    "basket = ['sugar','milk','tea','bread', 'butter' ]\n",
    "basket.sort()\n",
    "basket"
   ]
  },
  {
   "cell_type": "code",
   "execution_count": 27,
   "id": "b027a8ac",
   "metadata": {},
   "outputs": [
    {
     "data": {
      "text/plain": [
       "[2, 5, 20, 40, 45, 50, 60, 80, 90]"
      ]
     },
     "execution_count": 27,
     "metadata": {},
     "output_type": "execute_result"
    }
   ],
   "source": [
    "nums = [45, 80, 20, 40, 50, 60, 2, 5, 90]\n",
    "nums.sort()\n",
    "nums"
   ]
  },
  {
   "cell_type": "code",
   "execution_count": 18,
   "id": "d5068a6e",
   "metadata": {},
   "outputs": [
    {
     "data": {
      "text/plain": [
       "[90, 80, 60, 50, 45, 40, 20, 5, 2]"
      ]
     },
     "execution_count": 18,
     "metadata": {},
     "output_type": "execute_result"
    }
   ],
   "source": [
    "nums = [45, 80, 20, 40, 50, 60, 2, 5, 90]\n",
    "nums.sort(reverse=True)\n",
    "nums"
   ]
  },
  {
   "cell_type": "code",
   "execution_count": 19,
   "id": "1697b435",
   "metadata": {},
   "outputs": [
    {
     "data": {
      "text/plain": [
       "5"
      ]
     },
     "execution_count": 19,
     "metadata": {},
     "output_type": "execute_result"
    }
   ],
   "source": [
    "basket = ['sugar','milk','tea','bread', 'butter' ]\n",
    "len(basket)"
   ]
  },
  {
   "cell_type": "code",
   "execution_count": 20,
   "id": "571859fa",
   "metadata": {},
   "outputs": [
    {
     "name": "stdout",
     "output_type": "stream",
     "text": [
      "5\n",
      "4\n",
      "7\n",
      "4\n",
      "8\n",
      "9\n",
      "23\n"
     ]
    }
   ],
   "source": [
    "# myList1 = [10, 20, 30, 40, 50]\n",
    "myList2 = [5, 4, 7, 4, 8, 9, 23]\n",
    "for i in myList2:\n",
    "    print(i)\n",
    "\n"
   ]
  },
  {
   "cell_type": "code",
   "execution_count": 28,
   "id": "cffbd01e",
   "metadata": {},
   "outputs": [
    {
     "name": "stdout",
     "output_type": "stream",
     "text": [
      "5\n",
      "4\n",
      "7\n",
      "4\n",
      "8\n",
      "9\n",
      "23\n"
     ]
    }
   ],
   "source": [
    "# myList1 = [10, 20, 30, 40, 50]\n",
    "myList2 = [5, 4, 7, 4, 8, 9, 23]\n",
    "l_size=len(myList2)\n",
    "\n",
    "add=0\n",
    "for i in range(l_size): \n",
    "     print(myList2[i])\n"
   ]
  },
  {
   "cell_type": "code",
   "execution_count": 23,
   "id": "64751510",
   "metadata": {},
   "outputs": [
    {
     "name": "stdout",
     "output_type": "stream",
     "text": [
      "the average is  8.571428571428571\n"
     ]
    }
   ],
   "source": [
    "# myList1 = [10, 20, 30, 40, 50]\n",
    "myList2 = [5, 4, 7, 4, 8, 9, 23]\n",
    "l_size=len(myList2)\n",
    "\n",
    "add=0\n",
    "for i in myList2: \n",
    "    add=add+i\n",
    "    \n",
    "average=add/l_size    \n",
    "print(\"the average is \",average)    \n"
   ]
  },
  {
   "cell_type": "code",
   "execution_count": 26,
   "id": "79d6f0e3",
   "metadata": {},
   "outputs": [
    {
     "name": "stdout",
     "output_type": "stream",
     "text": [
      "the maximum value is  99\n"
     ]
    }
   ],
   "source": [
    "# myList1 = [10, 20, 30, 40, 50]\n",
    "myList2 = [5,99, 4, 7, 4, 8, 9, 23]\n",
    "l_size=len(myList2)\n",
    "\n",
    "max_value=myList2[0]\n",
    "for i in myList2: \n",
    "    if i>max_value:\n",
    "        max_value=i\n",
    "    \n",
    "  \n",
    "print(\"the maximum value is \",max_value)    \n"
   ]
  },
  {
   "cell_type": "code",
   "execution_count": null,
   "id": "fba94f9f",
   "metadata": {},
   "outputs": [],
   "source": []
  }
 ],
 "metadata": {
  "kernelspec": {
   "display_name": "Python 3",
   "language": "python",
   "name": "python3"
  },
  "language_info": {
   "codemirror_mode": {
    "name": "ipython",
    "version": 3
   },
   "file_extension": ".py",
   "mimetype": "text/x-python",
   "name": "python",
   "nbconvert_exporter": "python",
   "pygments_lexer": "ipython3",
   "version": "3.8.8"
  }
 },
 "nbformat": 4,
 "nbformat_minor": 5
}
