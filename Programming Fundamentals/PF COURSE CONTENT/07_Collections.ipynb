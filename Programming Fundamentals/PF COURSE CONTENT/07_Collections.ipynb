{
 "cells": [
  {
   "cell_type": "markdown",
   "metadata": {
    "slideshow": {
     "slide_type": "slide"
    }
   },
   "source": [
    "# Python Collections – The Unordered and Unindexed Data Structures"
   ]
  },
  {
   "cell_type": "markdown",
   "metadata": {
    "slideshow": {
     "slide_type": "slide"
    }
   },
   "source": [
    "Unlike sequences, Python collections do not have any order. They are unordered and unindexed data structures. This means that it is not necessary to get the order in which we insert items."
   ]
  },
  {
   "cell_type": "markdown",
   "metadata": {
    "slideshow": {
     "slide_type": "slide"
    }
   },
   "source": [
    "Python Collection Includes:\n",
    "\n",
    "1. Dictionaries\n",
    "2. Sets"
   ]
  },
  {
   "cell_type": "markdown",
   "metadata": {
    "slideshow": {
     "slide_type": "slide"
    }
   },
   "source": [
    "# Dictionaries\n",
    "Python dictionaries are an unordered collection of objects that holds value in a key-value structure. The key should be unique and must be an immutable object like a number, strings, and tuples. The values can be any Python object."
   ]
  },
  {
   "cell_type": "code",
   "execution_count": null,
   "metadata": {
    "slideshow": {
     "slide_type": "slide"
    }
   },
   "outputs": [],
   "source": [
    "#We can declare the Python dictionary in two ways.\n",
    "dict1 = { 801: \"M. Ali\", 802: \"Awais\", 803: \"Sara\"}\n",
    "\n",
    "dict2 = dict()\n",
    "dict2[804] = \"Fatima\"\n",
    "dict2[811] = \"Zara\"\n",
    "dict2[813] = \"Adam\"\n",
    "\n",
    "print(dict1)\n",
    "print(dict2)"
   ]
  },
  {
   "cell_type": "markdown",
   "metadata": {
    "slideshow": {
     "slide_type": "slide"
    }
   },
   "source": [
    "The main purpose of a dictionary is to map unique keys with a value so that retrieving information is optimized when we know the key.\n",
    "\n",
    "Dictionaries are mutable and we can simply add new key-value pairs in the dictionary by assigning them."
   ]
  },
  {
   "cell_type": "code",
   "execution_count": null,
   "metadata": {
    "slideshow": {
     "slide_type": "slide"
    }
   },
   "outputs": [],
   "source": [
    "d = {\"A\": [1, \"data1\"], \"B\": [2,\"Data2\"], \"C\": [3, \"data3\"]}\n",
    "print(d)\n",
    "d[\"B\"] = [4,\"updated data\"]\n",
    "print(d)"
   ]
  },
  {
   "cell_type": "code",
   "execution_count": null,
   "metadata": {
    "slideshow": {
     "slide_type": "slide"
    }
   },
   "outputs": [],
   "source": [
    "d = {\"A\": [1, \"data1\"], \"B\": [2,\"Data2\"], \"C\": [3, \"data3\"]}\n",
    "print(d[\"A\"])"
   ]
  },
  {
   "cell_type": "code",
   "execution_count": null,
   "metadata": {
    "slideshow": {
     "slide_type": "slide"
    }
   },
   "outputs": [],
   "source": [
    "d = {\"A\": [1, \"data1\"], \"B\": [2,\"Data2\"], \"C\": [3, \"data3\"]}\n",
    "print(d[\"A\"][0])"
   ]
  },
  {
   "cell_type": "code",
   "execution_count": null,
   "metadata": {
    "slideshow": {
     "slide_type": "slide"
    }
   },
   "outputs": [],
   "source": [
    "d = {\"A\": [1, \"data1\"], \"B\": [2,\"Data2\"], \"C\": [3, \"data3\"]}\n",
    "print(d[\"A\"][1])"
   ]
  },
  {
   "cell_type": "code",
   "execution_count": null,
   "metadata": {
    "slideshow": {
     "slide_type": "slide"
    }
   },
   "outputs": [],
   "source": [
    "# duplicate Keys\n",
    "\n",
    "d = {\"A\": [1, \"data1\"], \"A\": [2,\"Data2\"], \"A\": [2,\"Data2\"]}\n",
    "print(d[\"A\"])"
   ]
  },
  {
   "cell_type": "markdown",
   "metadata": {
    "slideshow": {
     "slide_type": "slide"
    }
   },
   "source": [
    "# Python Sets\n",
    "The sets data structure in Python is inspired by the mathematical sets concept. A set is a collection of distinct elements, so we don’t have any duplicates in a set."
   ]
  },
  {
   "cell_type": "markdown",
   "metadata": {
    "slideshow": {
     "slide_type": "slide"
    }
   },
   "source": [
    "We can declare a set by separating values with commas inside curly braces {} or by using the set() function. To create an empty set, you must use set()."
   ]
  },
  {
   "cell_type": "code",
   "execution_count": null,
   "metadata": {
    "slideshow": {
     "slide_type": "slide"
    }
   },
   "outputs": [],
   "source": [
    "setA = {1,2,3,4,5,4}\n",
    "setB = set({10,20,30,20,30})\n",
    "setC = set()\n",
    "\n",
    "print(setA)\n",
    "print(setB)\n",
    "print(setC)"
   ]
  },
  {
   "cell_type": "markdown",
   "metadata": {
    "slideshow": {
     "slide_type": "slide"
    }
   },
   "source": [
    "Sets is a mutable data structure so you can add, update, or remove elements from the set. But a set cannot contain lists, dictionary or sets."
   ]
  },
  {
   "cell_type": "code",
   "execution_count": null,
   "metadata": {
    "slideshow": {
     "slide_type": "slide"
    }
   },
   "outputs": [],
   "source": [
    "setA = {1,4,5,2}\n",
    "setA.remove(5)\n",
    "setA.add(3)\n",
    "print( setA)\n",
    "setA.add(\"3\")\n",
    "setA.add(\"Hello\")\n",
    "print(setA)\n"
   ]
  },
  {
   "cell_type": "code",
   "execution_count": null,
   "metadata": {},
   "outputs": [],
   "source": []
  }
 ],
 "metadata": {
  "celltoolbar": "Slideshow",
  "kernelspec": {
   "display_name": "Python 3",
   "language": "python",
   "name": "python3"
  },
  "language_info": {
   "codemirror_mode": {
    "name": "ipython",
    "version": 3
   },
   "file_extension": ".py",
   "mimetype": "text/x-python",
   "name": "python",
   "nbconvert_exporter": "python",
   "pygments_lexer": "ipython3",
   "version": "3.7.3"
  }
 },
 "nbformat": 4,
 "nbformat_minor": 2
}
