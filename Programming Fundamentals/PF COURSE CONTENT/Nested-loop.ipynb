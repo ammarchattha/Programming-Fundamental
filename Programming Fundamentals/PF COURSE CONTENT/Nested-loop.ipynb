{
 "cells": [
  {
   "cell_type": "markdown",
   "metadata": {},
   "source": [
    "Write a program to display the n terms of harmonic series and their sum.  \n",
    "1 + 1/2 + 1/3 + 1/4 + 1/5 ... 1/n terms\n",
    "Sample Output:\n",
    "Input number of terms: 5+1/1 + 1/2 + 1/3 + 1/4 + 1/5\n",
    "The sum of the series upto 5 terms: 2.28333\n"
   ]
  },
  {
   "cell_type": "code",
   "execution_count": null,
   "metadata": {},
   "outputs": [],
   "source": [
    "n=6\n",
    "s=1\n",
    "print(s,end='')\n",
    "for i in range(2,n+1):\n",
    "    print(\"+(1/\",i,\")\",end='',sep='')\n",
    "    s+=(1/i)\n",
    "print()\n",
    "print(s)"
   ]
  },
  {
   "cell_type": "code",
   "execution_count": null,
   "metadata": {},
   "outputs": [],
   "source": [
    "a=1\n",
    "b=1\n",
    "m=5\n",
    "while(m<=5):\n",
    "    print(a,\"/\",b,end='+')\n",
    "    div=a/b\n",
    "    b+=1\n",
    "    m+=1\n",
    "    \n",
    "print(div)"
   ]
  },
  {
   "cell_type": "code",
   "execution_count": null,
   "metadata": {},
   "outputs": [],
   "source": [
    "n=5\n",
    "sum=1\n",
    "print(1,end='+')\n",
    "for i in range(2,n+1):\n",
    "    f=1/i\n",
    "    print(\"(1/\",i,\")\",end='',sep='')\n",
    "    if i!=n:\n",
    "        print(\"+\",end='')\n",
    "    sum =sum+f\n",
    "print()    \n",
    "print(sum)"
   ]
  },
  {
   "cell_type": "code",
   "execution_count": null,
   "metadata": {},
   "outputs": [],
   "source": [
    "for i in \"hello\",\" world\":\n",
    "    print(i)"
   ]
  },
  {
   "cell_type": "code",
   "execution_count": null,
   "metadata": {},
   "outputs": [],
   "source": [
    "for i in \"hello\":\n",
    "    print(i)"
   ]
  },
  {
   "cell_type": "code",
   "execution_count": null,
   "metadata": {},
   "outputs": [],
   "source": [
    "for i in 123,456:\n",
    "    print(i)"
   ]
  },
  {
   "cell_type": "code",
   "execution_count": null,
   "metadata": {},
   "outputs": [],
   "source": [
    "for i in \"123456\":\n",
    "    print(i)"
   ]
  },
  {
   "cell_type": "markdown",
   "metadata": {},
   "source": [
    "Loop1:\n",
    "    \n",
    "    For : number of iteration\n",
    "    while: condition\n",
    "        \n",
    "initializtaion\n",
    "check\n",
    "update\n",
    "\n",
    "for single line authomaticly\n",
    "\n",
    "while manually"
   ]
  },
  {
   "cell_type": "code",
   "execution_count": null,
   "metadata": {},
   "outputs": [],
   "source": [
    "i=0\n",
    "while(i<10):\n",
    "    print(i)\n",
    "    "
   ]
  },
  {
   "cell_type": "code",
   "execution_count": 3,
   "metadata": {},
   "outputs": [
    {
     "name": "stdout",
     "output_type": "stream",
     "text": [
      "Number:3\n",
      "6\n",
      "Again:y/n?n\n",
      "Ended\n"
     ]
    }
   ],
   "source": [
    "a='y'\n",
    "while(a=='y' or a=='Y'):\n",
    "    n=int(input(\"Number:\"))\n",
    "    f=1\n",
    "    for i in range(n,1,-1):\n",
    "        f*=i\n",
    "    print(f)\n",
    "    a=input(\"Again:y/n?\")\n",
    "    \n",
    "print(\"Ended\")\n",
    "        "
   ]
  },
  {
   "cell_type": "markdown",
   "metadata": {},
   "source": [
    "1 + (x!/x^2) + ((x+1)!/x^3) + ((x+2)!/x^4) + ((x+3)!/x^5)+........"
   ]
  },
  {
   "cell_type": "code",
   "execution_count": null,
   "metadata": {},
   "outputs": [
    {
     "name": "stdout",
     "output_type": "stream",
     "text": [
      "1\n",
      "score12\n",
      "score13\n",
      "score14\n",
      "2 13.0\n"
     ]
    }
   ],
   "source": [
    "s=1\n",
    "while s<4:\n",
    "    name=input();\n",
    "    sc=1\n",
    "    sum=0\n",
    "    s+=1\n",
    "    while( sc<4):\n",
    "        ssc=int(input(\"score\"))\n",
    "        sum+=ssc\n",
    "        sc+=1\n",
    "    print(s,round(sum/3,2))"
   ]
  },
  {
   "cell_type": "code",
   "execution_count": null,
   "metadata": {},
   "outputs": [],
   "source": []
  }
 ],
 "metadata": {
  "kernelspec": {
   "display_name": "Python 3",
   "language": "python",
   "name": "python3"
  },
  "language_info": {
   "codemirror_mode": {
    "name": "ipython",
    "version": 3
   },
   "file_extension": ".py",
   "mimetype": "text/x-python",
   "name": "python",
   "nbconvert_exporter": "python",
   "pygments_lexer": "ipython3",
   "version": "3.7.3"
  }
 },
 "nbformat": 4,
 "nbformat_minor": 2
}
