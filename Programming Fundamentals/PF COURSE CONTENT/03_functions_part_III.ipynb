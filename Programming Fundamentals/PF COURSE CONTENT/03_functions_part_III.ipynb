{
 "cells": [
  {
   "cell_type": "markdown",
   "metadata": {
    "slideshow": {
     "slide_type": "slide"
    }
   },
   "source": [
    "Why use a function?\n",
    "There are several good reasons why functions are a key component of any non-ridiculous programmer:\n",
    "\n",
    "1. encapsulation: wrapping a piece of useful code into a function so that it can be used without knowledge of the specifics\n",
    "2. generalization: making a piece of code useful in varied circumstances through parameters\n",
    "3. manageability: Dividing a complex program up into easy-to-manage chunks\n",
    "4. maintainability: using meaningful names to make the program better readable and understandable\n",
    "5. reusability: a good function may be useful in multiple programs\n",
    "6. recursion!\n"
   ]
  },
  {
   "cell_type": "code",
   "execution_count": null,
   "metadata": {
    "slideshow": {
     "slide_type": "slide"
    }
   },
   "outputs": [],
   "source": [
    "# function definition:\n",
    "def happy_birthday_to_emily(): # Function definition\n",
    "    \"\"\"\n",
    "    Print a birthday song to Emily.\n",
    "    \"\"\"\n",
    "    print(\"Happy Birthday to you!\")\n",
    "    print(\"Happy Birthday to you!\")\n",
    "    print(\"Happy Birthday, dear Emily.\")\n",
    "    print(\"Happy Birthday to you!\")  \n",
    "# function call:\n",
    "print('Function call 1')\n",
    "happy_birthday_to_emily()\n",
    "print()\n",
    "# We can call the function as many times as we want (but we define it only once)\n",
    "print('Function call 2')\n",
    "happy_birthday_to_emily()\n",
    "print()\n",
    "print('Function call 3')\n",
    "happy_birthday_to_emily()\n",
    "print()\n",
    "# This will not call the function \n",
    "#(without the parenthesis, Python thinks that `happy_birthday_to_emily` is a variable and not a function!):\n",
    "print('This is not a function call')\n",
    "happy_birthday_to_emily"
   ]
  },
  {
   "cell_type": "markdown",
   "metadata": {
    "slideshow": {
     "slide_type": "slide"
    }
   },
   "source": [
    "Parameter: The variable name in the function definition below is a parameter. Variables used in function definitions are called parameters.\n",
    "\n",
    "Argument: The variable my_name in the function call below a value for the parameter name at the time when the function is called. We denote such variables arguments. We use arguments so we can direct the function to do different kinds of work when we call it at different times.\n",
    "    "
   ]
  },
  {
   "cell_type": "markdown",
   "metadata": {
    "slideshow": {
     "slide_type": "slide"
    }
   },
   "source": [
    "# Positional vs keyword parameters and arguments\n",
    "1. positional parameters: (we indicate these when defining a function, and they are compulsory when calling the function)\n",
    "2. keyword parameters: (we indicate these when defining a function, but they have a default value - and are optional when calling the function)\n",
    "3. positional arguments: (we MUST specify these when calling a function)\n",
    "4. keyword arguments: (we CAN specify these when calling a function)"
   ]
  },
  {
   "cell_type": "code",
   "execution_count": null,
   "metadata": {
    "slideshow": {
     "slide_type": "slide"
    }
   },
   "outputs": [],
   "source": [
    "def multiply(x, y, third_number=1): # x and y are positional parameters, third_number is a keyword parameter\n",
    "    \"\"\"Multiply two or three numbers and print the result.\"\"\"\n",
    "    result=x*y*third_number\n",
    "    print(result)"
   ]
  },
  {
   "cell_type": "code",
   "execution_count": null,
   "metadata": {
    "slideshow": {
     "slide_type": "slide"
    }
   },
   "outputs": [],
   "source": [
    "multiply(2,3) # We only specify the positional arguments\n",
    "multiply(2,3,third_number=4) # We specify both the positional arguments, and the keyword argumen"
   ]
  },
  {
   "cell_type": "code",
   "execution_count": null,
   "metadata": {
    "slideshow": {
     "slide_type": "slide"
    }
   },
   "outputs": [],
   "source": [
    "def multiply_no_return(x, y):\n",
    "    \"\"\"Multiply two numbers and does not return the result.\"\"\"\n",
    "    result = x * y\n",
    "    \n",
    "is_this_a_result = multiply_no_return(2,3)\n",
    "print(is_this_a_result)"
   ]
  },
  {
   "cell_type": "code",
   "execution_count": null,
   "metadata": {
    "slideshow": {
     "slide_type": "slide"
    }
   },
   "outputs": [],
   "source": [
    "def multiply_no_return(x, y):\n",
    "    \"\"\"Multiply two numbers and does not return the result.\"\"\"\n",
    "    result = x * y\n",
    "    \n",
    "\n",
    "print(multiply_no_return(2,3))"
   ]
  },
  {
   "cell_type": "markdown",
   "metadata": {
    "slideshow": {
     "slide_type": "slide"
    }
   },
   "source": [
    "# Returning Multiple Values"
   ]
  },
  {
   "cell_type": "code",
   "execution_count": null,
   "metadata": {
    "slideshow": {
     "slide_type": "slide"
    }
   },
   "outputs": [],
   "source": [
    "def calculate(x,y):\n",
    "    \"\"\"Calculate product and sum of two numbers.\"\"\"\n",
    "    product = x * y\n",
    "    summed = x + y\n",
    "    \n",
    "    #we return a tuple of values\n",
    "    return product, summed\n",
    "\n",
    "# the function returned a tuple and we unpack it to var1 and var2\n",
    "var1, var2 = calculate(10,5)\n",
    "\n",
    "print(\"product:\",var1,\"sum:\",var2)"
   ]
  },
  {
   "cell_type": "markdown",
   "metadata": {
    "slideshow": {
     "slide_type": "slide"
    }
   },
   "source": [
    "# Variable Scope"
   ]
  },
  {
   "cell_type": "code",
   "execution_count": null,
   "metadata": {
    "slideshow": {
     "slide_type": "slide"
    }
   },
   "outputs": [],
   "source": [
    "#Variable Scope \n",
    "def setx():\n",
    "    \"\"\"Set the value of a variable to 1.\"\"\"\n",
    "    x = 1\n",
    "    \n",
    "\n",
    "setx()\n",
    "print(x)"
   ]
  },
  {
   "cell_type": "code",
   "execution_count": null,
   "metadata": {},
   "outputs": [],
   "source": []
  },
  {
   "cell_type": "code",
   "execution_count": null,
   "metadata": {
    "slideshow": {
     "slide_type": "slide"
    }
   },
   "outputs": [],
   "source": [
    "def setx():\n",
    "    \"\"\"Set the value of a variable to 1.\"\"\"\n",
    "    x = 1\n",
    "    return x\n",
    "    \n",
    "setx()\n",
    "print(x)"
   ]
  },
  {
   "cell_type": "code",
   "execution_count": null,
   "metadata": {
    "slideshow": {
     "slide_type": "slide"
    }
   },
   "outputs": [],
   "source": [
    "x = 0\n",
    "def setx():\n",
    "    \"\"\"Set the value of a variable to 1.\"\"\"\n",
    "    x = 1\n",
    "setx()\n",
    "print(x)"
   ]
  },
  {
   "cell_type": "code",
   "execution_count": null,
   "metadata": {
    "slideshow": {
     "slide_type": "slide"
    }
   },
   "outputs": [],
   "source": [
    "x = 1\n",
    "def getx():\n",
    "    \"\"\"Print the value of a variable x.\"\"\"\n",
    "    print(x)\n",
    "    \n",
    "getx()"
   ]
  },
  {
   "cell_type": "code",
   "execution_count": null,
   "metadata": {
    "slideshow": {
     "slide_type": "slide"
    }
   },
   "outputs": [],
   "source": [
    "a=3\n",
    "b=2\n",
    "\n",
    "def setb():\n",
    "    \"\"\"Set the value of a variable b to 11.\"\"\"\n",
    "    b=11\n",
    "    c=20\n",
    "    print(\"In function\", locals())\n",
    "    print(\"Is 'a' defined locally in the function:\", 'a' in locals())\n",
    "    print(\"Is 'b' defined locally in the function:\", 'b' in locals())\n",
    "    \n",
    "\n",
    "setb()\n",
    "\n",
    "print(\"Is 'a' defined globally:\", 'a' in globals())\n",
    "print(\"Is 'b' defined globally:\", 'b' in globals())\n",
    "\n",
    "print(\"Is 'c' defined globally:\", 'c' in globals())"
   ]
  },
  {
   "cell_type": "code",
   "execution_count": null,
   "metadata": {},
   "outputs": [],
   "source": [
    "def setb_again():\n",
    "    \"\"\"Set the value of a variable to 3.\"\"\"\n",
    "    b=3\n",
    "    print(\"in 'setb_again' b =\", b)\n",
    "\n",
    "def setb():\n",
    "    \"\"\"Set the value of a variable b to 2.\"\"\"\n",
    "    b=2\n",
    "    setb_again()\n",
    "    print(\"in 'setb' b =\", b)\n",
    "b=1\n",
    "setb()\n",
    "print(\"global b =\", b)"
   ]
  },
  {
   "cell_type": "code",
   "execution_count": null,
   "metadata": {},
   "outputs": [],
   "source": [
    "def multiply(x, y, third_number=1): \n",
    "    \"\"\"Multiply two or three numbers and print the result.\"\"\"\n",
    "    result=x*y*third_number\n",
    "    \n",
    "    return result\n",
    "    \n",
    "print(multiply(1+1,6-2))\n",
    "print(multiply(multiply(4,2),multiply(2,5)))\n",
    "print(len(str(multiply(10,100))))"
   ]
  },
  {
   "cell_type": "markdown",
   "metadata": {},
   "source": [
    "# Task\n",
    "1. Write a function that converts meters [pass as argument] to centimeters and returns the resulting value.\n"
   ]
  },
  {
   "cell_type": "markdown",
   "metadata": {
    "slideshow": {
     "slide_type": "slide"
    }
   },
   "source": [
    "2. Add another keyword parameter message to the multiply function, which will allow a user to print a message. The default value of this keyword parameter should be an empty string. Test this with 2 messages of your choice. Also test it without specifying a value for the keyword argument when calling a function.\n",
    "\n",
    "\n",
    "#function to modify:\n",
    "\n",
    "def multiply(x, y, third_number=1): \n",
    "\n",
    "    \"\"\"Multiply two or three numbers and print the result.\"\"\"\n",
    "    \n",
    "    result=x*y*third_number\n",
    "    \n",
    "    print(result)"
   ]
  },
  {
   "cell_type": "code",
   "execution_count": null,
   "metadata": {},
   "outputs": [],
   "source": [
    "def switch_two_values(x,y):\n",
    "    \n",
    "    print(\"Write your code here\")\n",
    "    \n",
    "a='orange'\n",
    "b='apple'\n",
    "\n",
    "a,b = switch_two_values(a,b) # `a` should contain \"apple\" after this call, and `b` should contain \"orange\"\n",
    "\n",
    "print(a,b)"
   ]
  },
  {
   "cell_type": "markdown",
   "metadata": {},
   "source": [
    "Resource: https://notebook.community/evanmiltenburg/python-for-text-analysis/Chapters/Chapter%2011%20-%20Functions%20and%20scope"
   ]
  },
  {
   "cell_type": "code",
   "execution_count": null,
   "metadata": {},
   "outputs": [],
   "source": []
  }
 ],
 "metadata": {
  "celltoolbar": "Slideshow",
  "kernelspec": {
   "display_name": "Python 3",
   "language": "python",
   "name": "python3"
  },
  "language_info": {
   "codemirror_mode": {
    "name": "ipython",
    "version": 3
   },
   "file_extension": ".py",
   "mimetype": "text/x-python",
   "name": "python",
   "nbconvert_exporter": "python",
   "pygments_lexer": "ipython3",
   "version": "3.7.3"
  }
 },
 "nbformat": 4,
 "nbformat_minor": 2
}
