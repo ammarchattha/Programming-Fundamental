{
 "cells": [
  {
   "cell_type": "markdown",
   "metadata": {
    "slideshow": {
     "slide_type": "slide"
    }
   },
   "source": [
    "# File Handling\n",
    "Mostly, in programming languages, all the values or data are stored in some variables are volatile in nature\n",
    "\n",
    "Because data will be stored into those variables during run-time only and will be lost once the program execution is completed. Hence it is better to save these data permanently using files."
   ]
  },
  {
   "cell_type": "markdown",
   "metadata": {
    "slideshow": {
     "slide_type": "slide"
    }
   },
   "source": [
    "If you are working in a large software application where they process a large number of data, then we cannot expect those data to be stored in a variable as the variables are volatile in nature.\n",
    "\n",
    "Hence when are you about to handle such situations, the role of files will come into the picture.\n",
    "\n",
    "As files are non-volatile in nature, the data will be stored permanently in a secondary device like Hard Disk and using python we will handle these files in our applications."
   ]
  },
  {
   "cell_type": "markdown",
   "metadata": {
    "slideshow": {
     "slide_type": "slide"
    }
   },
   "source": [
    "Python provides us with an important feature for reading data from the file and writing data into a file"
   ]
  },
  {
   "cell_type": "markdown",
   "metadata": {
    "slideshow": {
     "slide_type": "slide"
    }
   },
   "source": [
    "Let’s take an Example of how normal people will handle the files. If we want to read the data from a file or write the data into a file, then, first of all, we will open the file or will create a new file if the file does not exist and then perform the normal read/write operations, save the file and close it.\n",
    "\n",
    "Similarly, we do the same operations in python using some in-built methods or functions."
   ]
  },
  {
   "cell_type": "markdown",
   "metadata": {
    "slideshow": {
     "slide_type": "slide"
    }
   },
   "source": [
    "# Types Of File in Python\n",
    "\n",
    "There are two types of files in Python:\n",
    "\n",
    "1. Binary file\n",
    "2. Text file"
   ]
  },
  {
   "cell_type": "markdown",
   "metadata": {
    "slideshow": {
     "slide_type": "slide"
    }
   },
   "source": [
    "# Binary files in Python\n",
    "\n",
    "Most of the files that we see in our computer system are called binary files.\n",
    "\n",
    "Example:\n",
    "\n",
    "1. Document files: .pdf, .doc, .xls etc.\n",
    "2. Image files: .png, .jpg, .gif, .bmp etc.\n",
    "3. Video files: .mp4, .3gp, .mkv, .avi etc.\n",
    "4. Audio files: .mp3, .wav, .mka, .aac etc.\n",
    "4. Database files: .mdb, .accde, .frm, .sqlite etc.\n",
    "5. Archive files: .zip, .rar, .iso, .7z etc.\n",
    "6. Executable files: .exe, .dll, .class etc.\n",
    "\n"
   ]
  },
  {
   "cell_type": "markdown",
   "metadata": {
    "slideshow": {
     "slide_type": "slide"
    }
   },
   "source": [
    "\n",
    "All binary files follow a specific format. We can open some binary files in the normal text editor but we can’t read the content present inside the file. That’s because all the binary files will be encoded in the binary format, which can be understood only by a computer or machine.\n",
    "\n",
    "For handling such binary files we need a specific type of software to open it.\n",
    "\n",
    "For Example, You need Microsoft word software to open .doc binary files. Likewise, you need a pdf reader software to open .pdf binary files and you need a photo editor software to read the image files and so on."
   ]
  },
  {
   "cell_type": "markdown",
   "metadata": {
    "slideshow": {
     "slide_type": "slide"
    }
   },
   "source": [
    "# Text files in Python\n",
    "\n",
    "Text files don’t have any specific encoding and it can be opened in normal text editor itself.\n",
    "\n",
    "Example:\n",
    "\n",
    "1. Web standards: html, XML, CSS, JSON etc.\n",
    "2. Source code: c, app, js, py, java etc.\n",
    "3. Documents: txt, tex, RTF etc.\n",
    "4. Tabular data: csv, tsv etc.\n",
    "5. Configuration: ini, cfg, reg etc.\n"
   ]
  },
  {
   "cell_type": "markdown",
   "metadata": {
    "slideshow": {
     "slide_type": "slide"
    }
   },
   "source": [
    "Now, we will see how to handle both text as well as binary files with some classic examples."
   ]
  },
  {
   "cell_type": "markdown",
   "metadata": {
    "slideshow": {
     "slide_type": "slide"
    }
   },
   "source": [
    "# Python File Handling Operations\n",
    "Most importantly there are 4 types of operations that can be handled by Python on files:\n",
    "\n",
    "1. Open\n",
    "2. Read\n",
    "3. Write\n",
    "4. Close\n",
    "\n",
    "Other operations include:\n",
    "\n",
    "1. Rename\n",
    "2. Delete"
   ]
  },
  {
   "cell_type": "markdown",
   "metadata": {
    "slideshow": {
     "slide_type": "slide"
    }
   },
   "source": [
    "# Python Create and Open a File\n",
    "\n",
    "Python has an in-built function called open() to open a file.\n",
    "\n",
    "It takes a minimum of one argument as mentioned in the below syntax. The open method returns a file object which is used to access the write, read and other in-built methods.\n",
    "\n",
    "Syntax:\n",
    "\n",
    "file_object = open(file_name, mode)"
   ]
  },
  {
   "cell_type": "markdown",
   "metadata": {
    "slideshow": {
     "slide_type": "slide"
    }
   },
   "source": [
    "Here, file_name is the name of the file or the location of the file that you want to open, and file_name should have the file extension included as well. Which means in test.txt – the term test is the name of the file and .txt is the extension of the file."
   ]
  },
  {
   "cell_type": "markdown",
   "metadata": {
    "slideshow": {
     "slide_type": "slide"
    }
   },
   "source": [
    "The mode in the open function syntax will tell Python as what operation you want to do on a file.\n",
    "\n",
    "1. ‘r’ – Read Mode: Read mode is used only to read data from the file.\n",
    "2. ‘w’ – Write Mode: This mode is used when you want to write data into the file or modify it. Remember write mode overwrites the data present in the file.\n",
    "3. ‘a’ – Append Mode: Append mode is used to append data to the file. Remember data will be appended at the end of the file pointer.\n",
    "4. ‘r+’ – Read or Write Mode: This mode is used when we want to write or read the data from the same file.\n",
    "5. ‘a+’ – Append or Read Mode: This mode is used when we want to read data from the file or append the data into the same file.\n",
    "\n",
    "Note: The above-mentioned modes are for opening, reading or writing text files only."
   ]
  },
  {
   "cell_type": "markdown",
   "metadata": {},
   "source": [
    "While using binary files, we have to use the same modes with the letter ‘b’ at the end. So that Python can understand that we are interacting with binary files.\n",
    "\n",
    "1. ‘wb’ – Open a file for write only mode in the binary format.\n",
    "2. ‘rb’ – Open a file for the read-only mode in the binary format.\n",
    "3. ‘ab’ – Open a file for appending only mode in the binary format.\n",
    "4. ‘rb+’ – Open a file for read and write only mode in the binary format.\n",
    "5. ‘ab+’ – Open a file for appending and read-only mode in the binary format."
   ]
  },
  {
   "cell_type": "code",
   "execution_count": null,
   "metadata": {
    "slideshow": {
     "slide_type": "slide"
    }
   },
   "outputs": [],
   "source": [
    "fo = open('test.txt','w' )\n"
   ]
  },
  {
   "cell_type": "code",
   "execution_count": null,
   "metadata": {
    "slideshow": {
     "slide_type": "slide"
    }
   },
   "outputs": [],
   "source": [
    "fo = open('test.txt','r' )\n",
    "f1= open('test.txt','w')"
   ]
  },
  {
   "cell_type": "code",
   "execution_count": null,
   "metadata": {
    "slideshow": {
     "slide_type": "slide"
    }
   },
   "outputs": [],
   "source": [
    "f1=open('F:/My Drive/Fall 2021/PF/Files/test1.txt','w')\n",
    "f1.close()"
   ]
  },
  {
   "cell_type": "code",
   "execution_count": null,
   "metadata": {
    "slideshow": {
     "slide_type": "slide"
    }
   },
   "outputs": [],
   "source": [
    "fo = open('F:/My Drive/Fall 2021/PF/Files/img1.bmp', 'w')"
   ]
  },
  {
   "cell_type": "markdown",
   "metadata": {
    "slideshow": {
     "slide_type": "slide"
    }
   },
   "source": [
    "# Python Read From File\n",
    "In order to read a file in python, we must open the file in read mode.\n",
    "\n",
    "There are three ways in which we can read the files in python.\n",
    "\n",
    "1. read([n])\n",
    "2. readline([n])\n",
    "3. readlines()\n",
    "\n",
    "Here, n is the number of bytes to be read.\n",
    "\n",
    "First, let’s create a sample text file as shown below."
   ]
  },
  {
   "cell_type": "code",
   "execution_count": null,
   "metadata": {
    "slideshow": {
     "slide_type": "slide"
    }
   },
   "outputs": [],
   "source": [
    "\n",
    "fo = open('test.txt','r' )\n",
    "a=fo.read(3)# read first 5 characters\n",
    "a1=fo.read(7)\n",
    "print(a)\n",
    "print(\"-------------\")\n",
    "print(a1)\n",
    "print(\"-------------\")\n",
    "b=fo.read(5)# Starts where the cursor ended till end\n",
    "print(b)"
   ]
  },
  {
   "cell_type": "code",
   "execution_count": null,
   "metadata": {
    "slideshow": {
     "slide_type": "slide"
    }
   },
   "outputs": [],
   "source": [
    "fo = open('test.txt','r' )\n",
    "a=fo.read(5) # read first 5 characters\n",
    "print(a) \n",
    "\n",
    "fo = open('test.txt','r' )\n",
    "b=fo.readline(3) # read complete line where cursor is\n",
    "print(b) \n"
   ]
  },
  {
   "cell_type": "code",
   "execution_count": null,
   "metadata": {
    "slideshow": {
     "slide_type": "slide"
    }
   },
   "outputs": [],
   "source": [
    "fo = open('test.txt','r' )\n",
    "\n",
    "print(fo.readlines()[3]) \n",
    "fo.close()"
   ]
  },
  {
   "cell_type": "code",
   "execution_count": null,
   "metadata": {
    "slideshow": {
     "slide_type": "slide"
    }
   },
   "outputs": [],
   "source": [
    "#Reading a specific line from a File\n",
    "\n",
    "line_number = 4\n",
    "fo = open('test.txt','r')\n",
    "currentline = 1\n",
    "for line in fo:\n",
    "    if(currentline == line_number):\n",
    "        print(line)\n",
    "        break\n",
    "    currentline = currentline +1"
   ]
  },
  {
   "cell_type": "markdown",
   "metadata": {
    "slideshow": {
     "slide_type": "slide"
    }
   },
   "source": [
    "# Python Write to File\n",
    "In order to write data into a file, we must open the file in write mode.\n",
    "\n",
    "We need to be very careful while writing data into the file as it overwrites the content present inside the file that you are writing, and all the previous data will be erased.\n",
    "\n",
    "We have two methods for writing data into a file as shown below.\n",
    "\n",
    "1. write(string)\n",
    "2. writelines(list)"
   ]
  },
  {
   "cell_type": "code",
   "execution_count": null,
   "metadata": {
    "slideshow": {
     "slide_type": "slide"
    }
   },
   "outputs": [],
   "source": [
    "fo = open('test.txt','w' ) # remember write will overwrite content of file \n",
    "fo.write('Writing new data to a file \\n')"
   ]
  },
  {
   "cell_type": "code",
   "execution_count": null,
   "metadata": {},
   "outputs": [],
   "source": [
    "fo = open('test.txt','a' ) \n",
    "fo.write('Again Writing new data to a file \\n')\n",
    "fo.close()"
   ]
  },
  {
   "cell_type": "code",
   "execution_count": null,
   "metadata": {
    "slideshow": {
     "slide_type": "slide"
    }
   },
   "outputs": [],
   "source": [
    "fruits = [\"Apple\\n\", \"Orange\\n\", \"Grapes\\n\", \"Watermelon\"]\n",
    "my_file = open('test.txt', 'w')\n",
    "my_file.writelines(fruits)\n",
    "my_file.close()\n",
    "\n"
   ]
  },
  {
   "cell_type": "markdown",
   "metadata": {
    "slideshow": {
     "slide_type": "slide"
    }
   },
   "source": [
    "# Rename File\n"
   ]
  },
  {
   "cell_type": "code",
   "execution_count": null,
   "metadata": {},
   "outputs": [],
   "source": [
    "import os\n",
    "os.rename('test.txt', 'NeName.txt')"
   ]
  },
  {
   "cell_type": "code",
   "execution_count": null,
   "metadata": {},
   "outputs": [],
   "source": [
    "os.remove('NeName.txt')"
   ]
  },
  {
   "cell_type": "code",
   "execution_count": null,
   "metadata": {},
   "outputs": [],
   "source": []
  }
 ],
 "metadata": {
  "celltoolbar": "Slideshow",
  "kernelspec": {
   "display_name": "Python 3",
   "language": "python",
   "name": "python3"
  },
  "language_info": {
   "codemirror_mode": {
    "name": "ipython",
    "version": 3
   },
   "file_extension": ".py",
   "mimetype": "text/x-python",
   "name": "python",
   "nbconvert_exporter": "python",
   "pygments_lexer": "ipython3",
   "version": "3.7.3"
  }
 },
 "nbformat": 4,
 "nbformat_minor": 2
}
